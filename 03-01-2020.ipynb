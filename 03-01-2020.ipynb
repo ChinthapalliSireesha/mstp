{
 "cells": [
  {
   "cell_type": "code",
   "execution_count": 1,
   "metadata": {},
   "outputs": [],
   "source": []
  },
  {
   "cell_type": "code",
   "execution_count": 2,
   "metadata": {},
   "outputs": [],
   "source": [
    "from datetime import datetime"
   ]
  },
  {
   "cell_type": "code",
   "execution_count": 3,
   "metadata": {},
   "outputs": [],
   "source": [
    "a=datetime.now()"
   ]
  },
  {
   "cell_type": "code",
   "execution_count": 4,
   "metadata": {},
   "outputs": [
    {
     "data": {
      "text/plain": [
       "datetime.datetime(2020, 1, 3, 9, 27, 48, 512901)"
      ]
     },
     "execution_count": 4,
     "metadata": {},
     "output_type": "execute_result"
    }
   ],
   "source": [
    "a"
   ]
  },
  {
   "cell_type": "code",
   "execution_count": 5,
   "metadata": {},
   "outputs": [
    {
     "data": {
      "text/plain": [
       "datetime.date(2020, 1, 3)"
      ]
     },
     "execution_count": 5,
     "metadata": {},
     "output_type": "execute_result"
    }
   ],
   "source": [
    "a.date()"
   ]
  },
  {
   "cell_type": "code",
   "execution_count": 7,
   "metadata": {},
   "outputs": [
    {
     "data": {
      "text/plain": [
       "2020"
      ]
     },
     "execution_count": 7,
     "metadata": {},
     "output_type": "execute_result"
    }
   ],
   "source": [
    "a.year"
   ]
  },
  {
   "cell_type": "code",
   "execution_count": 9,
   "metadata": {},
   "outputs": [
    {
     "data": {
      "text/plain": [
       "datetime.datetime(1, 1, 1, 0, 0)"
      ]
     },
     "execution_count": 9,
     "metadata": {},
     "output_type": "execute_result"
    }
   ],
   "source": [
    "a.min"
   ]
  },
  {
   "cell_type": "code",
   "execution_count": 21,
   "metadata": {},
   "outputs": [
    {
     "name": "stdout",
     "output_type": "stream",
     "text": [
      "date:3-1-2020\n"
     ]
    }
   ],
   "source": [
    "from datetime import *\n",
    "now=datetime.now()\n",
    "print(\"date:{}-{}-{}\".format(now.day,now.month,now.year))"
   ]
  },
  {
   "cell_type": "code",
   "execution_count": 23,
   "metadata": {},
   "outputs": [
    {
     "name": "stdout",
     "output_type": "stream",
     "text": [
      "time:9-34-28-22521\n"
     ]
    }
   ],
   "source": [
    "print(\"time:{}-{}-{}-{}\".format(now.hour,now.minute,now.second,now.microsecond))"
   ]
  },
  {
   "cell_type": "code",
   "execution_count": 28,
   "metadata": {},
   "outputs": [
    {
     "name": "stdout",
     "output_type": "stream",
     "text": [
      "2020-01-03\n"
     ]
    }
   ],
   "source": [
    "td=datetime.today()\n",
    "td\n",
    "t=date.today()\n",
    "print(t)"
   ]
  },
  {
   "cell_type": "code",
   "execution_count": 45,
   "metadata": {},
   "outputs": [
    {
     "name": "stdout",
     "output_type": "stream",
     "text": [
      "7630\n",
      "51660\n",
      "659283660.0\n"
     ]
    }
   ],
   "source": [
    "t=datetime(2020,1,3)-datetime(1999,2,11,9,39,0)\n",
    "print(t.days)\n",
    "print(t.seconds)\n",
    "print(t.total_seconds())\n"
   ]
  },
  {
   "cell_type": "code",
   "execution_count": 46,
   "metadata": {},
   "outputs": [
    {
     "data": {
      "text/plain": [
       "datetime.timedelta(days=7630, seconds=51660)"
      ]
     },
     "execution_count": 46,
     "metadata": {},
     "output_type": "execute_result"
    }
   ],
   "source": [
    "t"
   ]
  },
  {
   "cell_type": "code",
   "execution_count": 47,
   "metadata": {},
   "outputs": [
    {
     "data": {
      "text/plain": [
       "datetime.datetime(2020, 1, 3, 0, 0)"
      ]
     },
     "execution_count": 47,
     "metadata": {},
     "output_type": "execute_result"
    }
   ],
   "source": [
    "datetime(2020,1,3)"
   ]
  },
  {
   "cell_type": "code",
   "execution_count": 48,
   "metadata": {},
   "outputs": [
    {
     "data": {
      "text/plain": [
       "datetime.datetime(2020, 7, 21, 0, 0)"
      ]
     },
     "execution_count": 48,
     "metadata": {},
     "output_type": "execute_result"
    }
   ],
   "source": [
    "datetime(2020,1,3)+timedelta(200)"
   ]
  },
  {
   "cell_type": "code",
   "execution_count": 49,
   "metadata": {},
   "outputs": [
    {
     "data": {
      "text/plain": [
       "datetime.datetime(2019, 9, 25, 0, 0)"
      ]
     },
     "execution_count": 49,
     "metadata": {},
     "output_type": "execute_result"
    }
   ],
   "source": [
    "datetime(2020,1,3)-timedelta(100)"
   ]
  },
  {
   "cell_type": "code",
   "execution_count": 54,
   "metadata": {},
   "outputs": [
    {
     "ename": "TypeError",
     "evalue": "descriptor 'strftime' requires a 'datetime.date' object but received a 'str'",
     "output_type": "error",
     "traceback": [
      "\u001b[1;31m---------------------------------------------------------------------------\u001b[0m",
      "\u001b[1;31mTypeError\u001b[0m                                 Traceback (most recent call last)",
      "\u001b[1;32m<ipython-input-54-7ac93ff96be2>\u001b[0m in \u001b[0;36m<module>\u001b[1;34m\u001b[0m\n\u001b[0;32m      1\u001b[0m \u001b[0mt\u001b[0m\u001b[1;33m=\u001b[0m\u001b[1;34m\"monday Jan 2020\"\u001b[0m\u001b[1;33m\u001b[0m\u001b[1;33m\u001b[0m\u001b[0m\n\u001b[1;32m----> 2\u001b[1;33m \u001b[0mdatetime\u001b[0m\u001b[1;33m.\u001b[0m\u001b[0mstrftime\u001b[0m\u001b[1;33m(\u001b[0m\u001b[0mt\u001b[0m\u001b[1;33m,\u001b[0m\u001b[1;34m\"%d %B %Y\"\u001b[0m\u001b[1;33m)\u001b[0m\u001b[1;33m\u001b[0m\u001b[1;33m\u001b[0m\u001b[0m\n\u001b[0m",
      "\u001b[1;31mTypeError\u001b[0m: descriptor 'strftime' requires a 'datetime.date' object but received a 'str'"
     ]
    }
   ],
   "source": [
    "t=\"2020\"\n",
    "datetime.strftime(t,\"%d %B %Y\")"
   ]
  },
  {
   "cell_type": "code",
   "execution_count": 57,
   "metadata": {},
   "outputs": [
    {
     "data": {
      "text/plain": [
       "datetime.datetime(2020, 1, 3, 0, 0)"
      ]
     },
     "execution_count": 57,
     "metadata": {},
     "output_type": "execute_result"
    }
   ],
   "source": [
    "t=\"3 January 2020\"\n",
    "datetime.strptime(t,\"%d %B %Y\")"
   ]
  },
  {
   "cell_type": "code",
   "execution_count": 66,
   "metadata": {},
   "outputs": [
    {
     "data": {
      "text/plain": [
       "'03 January 2020'"
      ]
     },
     "execution_count": 66,
     "metadata": {},
     "output_type": "execute_result"
    }
   ],
   "source": [
    "t=datetime.today()\n",
    "datetime.strftime(t,\"%d %B %Y\")"
   ]
  },
  {
   "cell_type": "code",
   "execution_count": 67,
   "metadata": {},
   "outputs": [
    {
     "data": {
      "text/plain": [
       "datetime.datetime(2020, 1, 3, 10, 3, 11, 499782)"
      ]
     },
     "execution_count": 67,
     "metadata": {},
     "output_type": "execute_result"
    }
   ],
   "source": [
    "t=datetime.today()\n",
    "t"
   ]
  },
  {
   "cell_type": "code",
   "execution_count": 68,
   "metadata": {},
   "outputs": [],
   "source": [
    "a=[datetime(2020,2,3),datetime(2019,2,5),datetime(2018,7,8)]"
   ]
  },
  {
   "cell_type": "code",
   "execution_count": 69,
   "metadata": {},
   "outputs": [],
   "source": [
    "b=[i.strftime(\"%d %b %Y\") for i in a]"
   ]
  },
  {
   "cell_type": "code",
   "execution_count": 70,
   "metadata": {},
   "outputs": [
    {
     "data": {
      "text/plain": [
       "['03 Feb 2020', '05 Feb 2019', '08 Jul 2018']"
      ]
     },
     "execution_count": 70,
     "metadata": {},
     "output_type": "execute_result"
    }
   ],
   "source": [
    "b"
   ]
  },
  {
   "cell_type": "code",
   "execution_count": 71,
   "metadata": {},
   "outputs": [],
   "source": [
    "b=[i.strftime(\"%d %b %y\") for i in a]"
   ]
  },
  {
   "cell_type": "code",
   "execution_count": 72,
   "metadata": {},
   "outputs": [
    {
     "data": {
      "text/plain": [
       "['03 Feb 20', '05 Feb 19', '08 Jul 18']"
      ]
     },
     "execution_count": 72,
     "metadata": {},
     "output_type": "execute_result"
    }
   ],
   "source": [
    "b"
   ]
  },
  {
   "cell_type": "code",
   "execution_count": 74,
   "metadata": {},
   "outputs": [],
   "source": [
    "import pandas as pd\n",
    "import numpy as np\n",
    "dates=[datetime(2020,2,3),datetime(2019,2,5),datetime(2018,7,8),datetime(2017,2,3),datetime(2016,2,5)]"
   ]
  },
  {
   "cell_type": "code",
   "execution_count": 80,
   "metadata": {},
   "outputs": [
    {
     "data": {
      "text/plain": [
       "2020-02-03    0.620297\n",
       "2019-02-05    0.646314\n",
       "2018-07-08    0.221768\n",
       "2017-02-03    0.883659\n",
       "2016-02-05    0.961461\n",
       "dtype: float64"
      ]
     },
     "execution_count": 80,
     "metadata": {},
     "output_type": "execute_result"
    }
   ],
   "source": [
    "a=pd.Series(np.random.rand(5),index=dates)\n",
    "a"
   ]
  },
  {
   "cell_type": "code",
   "execution_count": 82,
   "metadata": {},
   "outputs": [
    {
     "data": {
      "text/plain": [
       "DatetimeIndex(['2020-02-03', '2019-02-05', '2018-07-08', '2017-02-03',\n",
       "               '2016-02-05'],\n",
       "              dtype='datetime64[ns]', freq=None)"
      ]
     },
     "execution_count": 82,
     "metadata": {},
     "output_type": "execute_result"
    }
   ],
   "source": [
    "a.index"
   ]
  },
  {
   "cell_type": "code",
   "execution_count": 83,
   "metadata": {},
   "outputs": [
    {
     "data": {
      "text/plain": [
       "array([0.62029694, 0.64631402, 0.22176849, 0.88365911, 0.96146126])"
      ]
     },
     "execution_count": 83,
     "metadata": {},
     "output_type": "execute_result"
    }
   ],
   "source": [
    "a.values"
   ]
  },
  {
   "cell_type": "code",
   "execution_count": 84,
   "metadata": {},
   "outputs": [
    {
     "data": {
      "text/plain": [
       "2016-02-05    0.961461\n",
       "dtype: float64"
      ]
     },
     "execution_count": 84,
     "metadata": {},
     "output_type": "execute_result"
    }
   ],
   "source": [
    "a[\"2016\"]"
   ]
  },
  {
   "cell_type": "code",
   "execution_count": 85,
   "metadata": {},
   "outputs": [
    {
     "data": {
      "text/plain": [
       "Timestamp('2018-07-08 00:00:00')"
      ]
     },
     "execution_count": 85,
     "metadata": {},
     "output_type": "execute_result"
    }
   ],
   "source": [
    "a.index[2]"
   ]
  },
  {
   "cell_type": "code",
   "execution_count": 86,
   "metadata": {},
   "outputs": [
    {
     "data": {
      "text/plain": [
       "1578027224.022117"
      ]
     },
     "execution_count": 86,
     "metadata": {},
     "output_type": "execute_result"
    }
   ],
   "source": [
    "n=datetime.now()\n",
    "timestamp=n.timestamp()\n",
    "timestamp"
   ]
  },
  {
   "cell_type": "code",
   "execution_count": 100,
   "metadata": {},
   "outputs": [
    {
     "data": {
      "text/plain": [
       "1999-02-18    0.587909\n",
       "1999-02-19    0.228940\n",
       "1999-02-20    0.836641\n",
       "1999-02-21    0.790844\n",
       "1999-02-22    0.688939\n",
       "1999-02-23    0.947338\n",
       "1999-02-24    0.471736\n",
       "1999-02-25    0.187133\n",
       "1999-02-26    0.823269\n",
       "1999-02-27    0.934892\n",
       "1999-02-28    0.490452\n",
       "1999-03-01    0.804607\n",
       "1999-03-02    0.113032\n",
       "1999-03-03    0.515501\n",
       "1999-03-04    0.288558\n",
       "1999-03-05    0.433135\n",
       "1999-03-06    0.977525\n",
       "1999-03-07    0.331040\n",
       "1999-03-08    0.798200\n",
       "1999-03-09    0.878684\n",
       "1999-03-10    0.936936\n",
       "1999-03-11    0.281595\n",
       "1999-03-12    0.488549\n",
       "1999-03-13    0.539278\n",
       "1999-03-14    0.639908\n",
       "1999-03-15    0.639557\n",
       "1999-03-16    0.707517\n",
       "1999-03-17    0.281767\n",
       "1999-03-18    0.870127\n",
       "1999-03-19    0.192404\n",
       "                ...   \n",
       "2001-10-15    0.195654\n",
       "2001-10-16    0.189255\n",
       "2001-10-17    0.059552\n",
       "2001-10-18    0.446135\n",
       "2001-10-19    0.987241\n",
       "2001-10-20    0.899744\n",
       "2001-10-21    0.326945\n",
       "2001-10-22    0.573428\n",
       "2001-10-23    0.132867\n",
       "2001-10-24    0.055197\n",
       "2001-10-25    0.496110\n",
       "2001-10-26    0.261720\n",
       "2001-10-27    0.596449\n",
       "2001-10-28    0.959953\n",
       "2001-10-29    0.143643\n",
       "2001-10-30    0.025773\n",
       "2001-10-31    0.824832\n",
       "2001-11-01    0.507909\n",
       "2001-11-02    0.763033\n",
       "2001-11-03    0.049906\n",
       "2001-11-04    0.489113\n",
       "2001-11-05    0.329823\n",
       "2001-11-06    0.415500\n",
       "2001-11-07    0.869592\n",
       "2001-11-08    0.138055\n",
       "2001-11-09    0.217170\n",
       "2001-11-10    0.821008\n",
       "2001-11-11    0.839196\n",
       "2001-11-12    0.998305\n",
       "2001-11-13    0.456671\n",
       "Freq: D, Length: 1000, dtype: float64"
      ]
     },
     "execution_count": 100,
     "metadata": {},
     "output_type": "execute_result"
    }
   ],
   "source": [
    "a=pd.Series(np.random.rand(1000),index=pd.date_range(start=\"18/2/1999\",periods=1000))\n",
    "a"
   ]
  },
  {
   "cell_type": "code",
   "execution_count": 92,
   "metadata": {},
   "outputs": [],
   "source": [
    "pd.date_range?"
   ]
  },
  {
   "cell_type": "code",
   "execution_count": 103,
   "metadata": {},
   "outputs": [
    {
     "data": {
      "text/plain": [
       "2001-11-01    0.507909\n",
       "2001-11-02    0.763033\n",
       "2001-11-03    0.049906\n",
       "2001-11-04    0.489113\n",
       "2001-11-05    0.329823\n",
       "2001-11-06    0.415500\n",
       "2001-11-07    0.869592\n",
       "2001-11-08    0.138055\n",
       "2001-11-09    0.217170\n",
       "2001-11-10    0.821008\n",
       "2001-11-11    0.839196\n",
       "2001-11-12    0.998305\n",
       "2001-11-13    0.456671\n",
       "Freq: D, dtype: float64"
      ]
     },
     "execution_count": 103,
     "metadata": {},
     "output_type": "execute_result"
    }
   ],
   "source": [
    "a['2001-11']"
   ]
  },
  {
   "cell_type": "code",
   "execution_count": 105,
   "metadata": {},
   "outputs": [
    {
     "data": {
      "text/plain": [
       "2001-11-01    0.507909\n",
       "2001-11-02    0.763033\n",
       "2001-11-03    0.049906\n",
       "2001-11-04    0.489113\n",
       "2001-11-05    0.329823\n",
       "2001-11-06    0.415500\n",
       "2001-11-07    0.869592\n",
       "2001-11-08    0.138055\n",
       "2001-11-09    0.217170\n",
       "Freq: D, dtype: float64"
      ]
     },
     "execution_count": 105,
     "metadata": {},
     "output_type": "execute_result"
    }
   ],
   "source": [
    "a['2001-11-01':'2001-11-09']"
   ]
  },
  {
   "cell_type": "code",
   "execution_count": 107,
   "metadata": {},
   "outputs": [
    {
     "data": {
      "text/plain": [
       "DatetimeIndex(['2020-03-31', '2020-04-30', '2020-05-29', '2020-06-30',\n",
       "               '2020-07-31', '2020-08-31', '2020-09-30', '2020-10-30',\n",
       "               '2020-11-30', '2020-12-31', '2021-01-29'],\n",
       "              dtype='datetime64[ns]', freq='BM')"
      ]
     },
     "execution_count": 107,
     "metadata": {},
     "output_type": "execute_result"
    }
   ],
   "source": [
    "pd.date_range(\"03/02/2020\",\"02/02/2021\",freq=\"BM\")"
   ]
  },
  {
   "cell_type": "code",
   "execution_count": 112,
   "metadata": {},
   "outputs": [
    {
     "data": {
      "text/plain": [
       "DatetimeIndex(['2020-03-21', '2020-04-18', '2020-05-16', '2020-06-20',\n",
       "               '2020-07-18', '2020-08-15', '2020-09-19', '2020-10-17',\n",
       "               '2020-11-21', '2020-12-19', '2021-01-16'],\n",
       "              dtype='datetime64[ns]', freq='WOM-3SAT')"
      ]
     },
     "execution_count": 112,
     "metadata": {},
     "output_type": "execute_result"
    }
   ],
   "source": [
    "pd.date_range(\"03/01/2020\",\"02/02/2021\",freq=\"WOM-3sat\")"
   ]
  },
  {
   "cell_type": "code",
   "execution_count": 115,
   "metadata": {},
   "outputs": [
    {
     "ename": "ValueError",
     "evalue": "Invalid frequency: Re",
     "output_type": "error",
     "traceback": [
      "\u001b[1;31m---------------------------------------------------------------------------\u001b[0m",
      "\u001b[1;31mTypeError\u001b[0m                                 Traceback (most recent call last)",
      "\u001b[1;32mC:\\ProgramData\\Anaconda3\\lib\\site-packages\\pandas\\tseries\\frequencies.py\u001b[0m in \u001b[0;36mget_offset\u001b[1;34m(name)\u001b[0m\n\u001b[0;32m    189\u001b[0m             \u001b[1;31m# many '-')\u001b[0m\u001b[1;33m\u001b[0m\u001b[1;33m\u001b[0m\u001b[1;33m\u001b[0m\u001b[0m\n\u001b[1;32m--> 190\u001b[1;33m             \u001b[0moffset\u001b[0m \u001b[1;33m=\u001b[0m \u001b[0mklass\u001b[0m\u001b[1;33m.\u001b[0m\u001b[0m_from_name\u001b[0m\u001b[1;33m(\u001b[0m\u001b[1;33m*\u001b[0m\u001b[0msplit\u001b[0m\u001b[1;33m[\u001b[0m\u001b[1;36m1\u001b[0m\u001b[1;33m:\u001b[0m\u001b[1;33m]\u001b[0m\u001b[1;33m)\u001b[0m\u001b[1;33m\u001b[0m\u001b[1;33m\u001b[0m\u001b[0m\n\u001b[0m\u001b[0;32m    191\u001b[0m         \u001b[1;32mexcept\u001b[0m \u001b[1;33m(\u001b[0m\u001b[0mValueError\u001b[0m\u001b[1;33m,\u001b[0m \u001b[0mTypeError\u001b[0m\u001b[1;33m,\u001b[0m \u001b[0mKeyError\u001b[0m\u001b[1;33m)\u001b[0m\u001b[1;33m:\u001b[0m\u001b[1;33m\u001b[0m\u001b[1;33m\u001b[0m\u001b[0m\n",
      "\u001b[1;32mC:\\ProgramData\\Anaconda3\\lib\\site-packages\\pandas\\tseries\\offsets.py\u001b[0m in \u001b[0;36m_from_name\u001b[1;34m(cls, *args)\u001b[0m\n\u001b[0;32m   1981\u001b[0m     \u001b[1;32mdef\u001b[0m \u001b[0m_from_name\u001b[0m\u001b[1;33m(\u001b[0m\u001b[0mcls\u001b[0m\u001b[1;33m,\u001b[0m \u001b[1;33m*\u001b[0m\u001b[0margs\u001b[0m\u001b[1;33m)\u001b[0m\u001b[1;33m:\u001b[0m\u001b[1;33m\u001b[0m\u001b[1;33m\u001b[0m\u001b[0m\n\u001b[1;32m-> 1982\u001b[1;33m         \u001b[1;32mreturn\u001b[0m \u001b[0mcls\u001b[0m\u001b[1;33m(\u001b[0m\u001b[1;33m**\u001b[0m\u001b[0mcls\u001b[0m\u001b[1;33m.\u001b[0m\u001b[0m_parse_suffix\u001b[0m\u001b[1;33m(\u001b[0m\u001b[1;33m*\u001b[0m\u001b[0margs\u001b[0m\u001b[1;33m)\u001b[0m\u001b[1;33m)\u001b[0m\u001b[1;33m\u001b[0m\u001b[1;33m\u001b[0m\u001b[0m\n\u001b[0m\u001b[0;32m   1983\u001b[0m \u001b[1;33m\u001b[0m\u001b[0m\n",
      "\u001b[1;31mTypeError\u001b[0m: _parse_suffix() missing 3 required positional arguments: 'varion_code', 'startingMonth_code', and 'weekday_code'",
      "\nDuring handling of the above exception, another exception occurred:\n",
      "\u001b[1;31mValueError\u001b[0m                                Traceback (most recent call last)",
      "\u001b[1;32mC:\\ProgramData\\Anaconda3\\lib\\site-packages\\pandas\\tseries\\frequencies.py\u001b[0m in \u001b[0;36mto_offset\u001b[1;34m(freq)\u001b[0m\n\u001b[0;32m    153\u001b[0m                 \u001b[0mstride\u001b[0m \u001b[1;33m=\u001b[0m \u001b[0mint\u001b[0m\u001b[1;33m(\u001b[0m\u001b[0mstride\u001b[0m\u001b[1;33m)\u001b[0m\u001b[1;33m\u001b[0m\u001b[1;33m\u001b[0m\u001b[0m\n\u001b[1;32m--> 154\u001b[1;33m                 \u001b[0moffset\u001b[0m \u001b[1;33m=\u001b[0m \u001b[0mget_offset\u001b[0m\u001b[1;33m(\u001b[0m\u001b[0mname\u001b[0m\u001b[1;33m)\u001b[0m\u001b[1;33m\u001b[0m\u001b[1;33m\u001b[0m\u001b[0m\n\u001b[0m\u001b[0;32m    155\u001b[0m                 \u001b[0moffset\u001b[0m \u001b[1;33m=\u001b[0m \u001b[0moffset\u001b[0m \u001b[1;33m*\u001b[0m \u001b[0mint\u001b[0m\u001b[1;33m(\u001b[0m\u001b[0mnp\u001b[0m\u001b[1;33m.\u001b[0m\u001b[0mfabs\u001b[0m\u001b[1;33m(\u001b[0m\u001b[0mstride\u001b[0m\u001b[1;33m)\u001b[0m \u001b[1;33m*\u001b[0m \u001b[0mstride_sign\u001b[0m\u001b[1;33m)\u001b[0m\u001b[1;33m\u001b[0m\u001b[1;33m\u001b[0m\u001b[0m\n",
      "\u001b[1;32mC:\\ProgramData\\Anaconda3\\lib\\site-packages\\pandas\\tseries\\frequencies.py\u001b[0m in \u001b[0;36mget_offset\u001b[1;34m(name)\u001b[0m\n\u001b[0;32m    192\u001b[0m             \u001b[1;31m# bad prefix or suffix\u001b[0m\u001b[1;33m\u001b[0m\u001b[1;33m\u001b[0m\u001b[1;33m\u001b[0m\u001b[0m\n\u001b[1;32m--> 193\u001b[1;33m             \u001b[1;32mraise\u001b[0m \u001b[0mValueError\u001b[0m\u001b[1;33m(\u001b[0m\u001b[0mlibfreqs\u001b[0m\u001b[1;33m.\u001b[0m\u001b[0mINVALID_FREQ_ERR_MSG\u001b[0m\u001b[1;33m.\u001b[0m\u001b[0mformat\u001b[0m\u001b[1;33m(\u001b[0m\u001b[0mname\u001b[0m\u001b[1;33m)\u001b[0m\u001b[1;33m)\u001b[0m\u001b[1;33m\u001b[0m\u001b[1;33m\u001b[0m\u001b[0m\n\u001b[0m\u001b[0;32m    194\u001b[0m         \u001b[1;31m# cache\u001b[0m\u001b[1;33m\u001b[0m\u001b[1;33m\u001b[0m\u001b[1;33m\u001b[0m\u001b[0m\n",
      "\u001b[1;31mValueError\u001b[0m: Invalid frequency: RE",
      "\nDuring handling of the above exception, another exception occurred:\n",
      "\u001b[1;31mValueError\u001b[0m                                Traceback (most recent call last)",
      "\u001b[1;32m<ipython-input-115-94437697309a>\u001b[0m in \u001b[0;36m<module>\u001b[1;34m\u001b[0m\n\u001b[1;32m----> 1\u001b[1;33m \u001b[0mpd\u001b[0m\u001b[1;33m.\u001b[0m\u001b[0mdate_range\u001b[0m\u001b[1;33m(\u001b[0m\u001b[1;34m\"03/01/2020\"\u001b[0m\u001b[1;33m,\u001b[0m\u001b[1;34m\"02/02/2021\"\u001b[0m\u001b[1;33m,\u001b[0m\u001b[0mfreq\u001b[0m\u001b[1;33m=\u001b[0m\u001b[1;34m\"Re\"\u001b[0m\u001b[1;33m)\u001b[0m\u001b[1;33m\u001b[0m\u001b[1;33m\u001b[0m\u001b[0m\n\u001b[0m",
      "\u001b[1;32mC:\\ProgramData\\Anaconda3\\lib\\site-packages\\pandas\\core\\indexes\\datetimes.py\u001b[0m in \u001b[0;36mdate_range\u001b[1;34m(start, end, periods, freq, tz, normalize, name, closed, **kwargs)\u001b[0m\n\u001b[0;32m   1522\u001b[0m         \u001b[0mstart\u001b[0m\u001b[1;33m=\u001b[0m\u001b[0mstart\u001b[0m\u001b[1;33m,\u001b[0m \u001b[0mend\u001b[0m\u001b[1;33m=\u001b[0m\u001b[0mend\u001b[0m\u001b[1;33m,\u001b[0m \u001b[0mperiods\u001b[0m\u001b[1;33m=\u001b[0m\u001b[0mperiods\u001b[0m\u001b[1;33m,\u001b[0m\u001b[1;33m\u001b[0m\u001b[1;33m\u001b[0m\u001b[0m\n\u001b[0;32m   1523\u001b[0m         \u001b[0mfreq\u001b[0m\u001b[1;33m=\u001b[0m\u001b[0mfreq\u001b[0m\u001b[1;33m,\u001b[0m \u001b[0mtz\u001b[0m\u001b[1;33m=\u001b[0m\u001b[0mtz\u001b[0m\u001b[1;33m,\u001b[0m \u001b[0mnormalize\u001b[0m\u001b[1;33m=\u001b[0m\u001b[0mnormalize\u001b[0m\u001b[1;33m,\u001b[0m\u001b[1;33m\u001b[0m\u001b[1;33m\u001b[0m\u001b[0m\n\u001b[1;32m-> 1524\u001b[1;33m         closed=closed, **kwargs)\n\u001b[0m\u001b[0;32m   1525\u001b[0m     return DatetimeIndex._simple_new(\n\u001b[0;32m   1526\u001b[0m         dtarr, tz=dtarr.tz, freq=dtarr.freq, name=name)\n",
      "\u001b[1;32mC:\\ProgramData\\Anaconda3\\lib\\site-packages\\pandas\\core\\arrays\\datetimes.py\u001b[0m in \u001b[0;36m_generate_range\u001b[1;34m(cls, start, end, periods, freq, tz, normalize, ambiguous, nonexistent, closed)\u001b[0m\n\u001b[0;32m    406\u001b[0m             raise ValueError('Of the four parameters: start, end, periods, '\n\u001b[0;32m    407\u001b[0m                              'and freq, exactly three must be specified')\n\u001b[1;32m--> 408\u001b[1;33m         \u001b[0mfreq\u001b[0m \u001b[1;33m=\u001b[0m \u001b[0mto_offset\u001b[0m\u001b[1;33m(\u001b[0m\u001b[0mfreq\u001b[0m\u001b[1;33m)\u001b[0m\u001b[1;33m\u001b[0m\u001b[1;33m\u001b[0m\u001b[0m\n\u001b[0m\u001b[0;32m    409\u001b[0m \u001b[1;33m\u001b[0m\u001b[0m\n\u001b[0;32m    410\u001b[0m         \u001b[1;32mif\u001b[0m \u001b[0mstart\u001b[0m \u001b[1;32mis\u001b[0m \u001b[1;32mnot\u001b[0m \u001b[1;32mNone\u001b[0m\u001b[1;33m:\u001b[0m\u001b[1;33m\u001b[0m\u001b[1;33m\u001b[0m\u001b[0m\n",
      "\u001b[1;32mC:\\ProgramData\\Anaconda3\\lib\\site-packages\\pandas\\tseries\\frequencies.py\u001b[0m in \u001b[0;36mto_offset\u001b[1;34m(freq)\u001b[0m\n\u001b[0;32m    159\u001b[0m                     \u001b[0mdelta\u001b[0m \u001b[1;33m=\u001b[0m \u001b[0mdelta\u001b[0m \u001b[1;33m+\u001b[0m \u001b[0moffset\u001b[0m\u001b[1;33m\u001b[0m\u001b[1;33m\u001b[0m\u001b[0m\n\u001b[0;32m    160\u001b[0m         \u001b[1;32mexcept\u001b[0m \u001b[0mException\u001b[0m\u001b[1;33m:\u001b[0m\u001b[1;33m\u001b[0m\u001b[1;33m\u001b[0m\u001b[0m\n\u001b[1;32m--> 161\u001b[1;33m             \u001b[1;32mraise\u001b[0m \u001b[0mValueError\u001b[0m\u001b[1;33m(\u001b[0m\u001b[0mlibfreqs\u001b[0m\u001b[1;33m.\u001b[0m\u001b[0mINVALID_FREQ_ERR_MSG\u001b[0m\u001b[1;33m.\u001b[0m\u001b[0mformat\u001b[0m\u001b[1;33m(\u001b[0m\u001b[0mfreq\u001b[0m\u001b[1;33m)\u001b[0m\u001b[1;33m)\u001b[0m\u001b[1;33m\u001b[0m\u001b[1;33m\u001b[0m\u001b[0m\n\u001b[0m\u001b[0;32m    162\u001b[0m \u001b[1;33m\u001b[0m\u001b[0m\n\u001b[0;32m    163\u001b[0m     \u001b[1;32mif\u001b[0m \u001b[0mdelta\u001b[0m \u001b[1;32mis\u001b[0m \u001b[1;32mNone\u001b[0m\u001b[1;33m:\u001b[0m\u001b[1;33m\u001b[0m\u001b[1;33m\u001b[0m\u001b[0m\n",
      "\u001b[1;31mValueError\u001b[0m: Invalid frequency: Re"
     ]
    }
   ],
   "source": [
    "pd.date_range(\"03/01/2020\",\"02/02/2021\",freq=\"Re\")"
   ]
  },
  {
   "cell_type": "code",
   "execution_count": 123,
   "metadata": {},
   "outputs": [
    {
     "data": {
      "text/html": [
       "<div>\n",
       "<style scoped>\n",
       "    .dataframe tbody tr th:only-of-type {\n",
       "        vertical-align: middle;\n",
       "    }\n",
       "\n",
       "    .dataframe tbody tr th {\n",
       "        vertical-align: top;\n",
       "    }\n",
       "\n",
       "    .dataframe thead th {\n",
       "        text-align: right;\n",
       "    }\n",
       "</style>\n",
       "<table border=\"1\" class=\"dataframe\">\n",
       "  <thead>\n",
       "    <tr style=\"text-align: right;\">\n",
       "      <th></th>\n",
       "      <th>India</th>\n",
       "      <th>China</th>\n",
       "      <th>USA</th>\n",
       "      <th>canda</th>\n",
       "    </tr>\n",
       "  </thead>\n",
       "  <tbody>\n",
       "    <tr>\n",
       "      <th>1999-02-18</th>\n",
       "      <td>0.879427</td>\n",
       "      <td>0.753055</td>\n",
       "      <td>0.851018</td>\n",
       "      <td>0.707657</td>\n",
       "    </tr>\n",
       "    <tr>\n",
       "      <th>1999-02-19</th>\n",
       "      <td>0.967770</td>\n",
       "      <td>0.158161</td>\n",
       "      <td>0.167113</td>\n",
       "      <td>0.372474</td>\n",
       "    </tr>\n",
       "    <tr>\n",
       "      <th>1999-02-20</th>\n",
       "      <td>0.149213</td>\n",
       "      <td>0.173850</td>\n",
       "      <td>0.796525</td>\n",
       "      <td>0.128753</td>\n",
       "    </tr>\n",
       "    <tr>\n",
       "      <th>1999-02-21</th>\n",
       "      <td>0.398834</td>\n",
       "      <td>0.142683</td>\n",
       "      <td>0.123590</td>\n",
       "      <td>0.586915</td>\n",
       "    </tr>\n",
       "    <tr>\n",
       "      <th>1999-02-22</th>\n",
       "      <td>0.354885</td>\n",
       "      <td>0.530041</td>\n",
       "      <td>0.140886</td>\n",
       "      <td>0.229532</td>\n",
       "    </tr>\n",
       "  </tbody>\n",
       "</table>\n",
       "</div>"
      ],
      "text/plain": [
       "               India     China       USA     canda\n",
       "1999-02-18  0.879427  0.753055  0.851018  0.707657\n",
       "1999-02-19  0.967770  0.158161  0.167113  0.372474\n",
       "1999-02-20  0.149213  0.173850  0.796525  0.128753\n",
       "1999-02-21  0.398834  0.142683  0.123590  0.586915\n",
       "1999-02-22  0.354885  0.530041  0.140886  0.229532"
      ]
     },
     "execution_count": 123,
     "metadata": {},
     "output_type": "execute_result"
    }
   ],
   "source": [
    "dates=pd.date_range(start=\"18/2/1999\",periods=100)\n",
    "\n",
    "a=pd.DataFrame(np.random.rand(100,4),index=dates,columns=['India','China','USA','canda'])\n",
    "a.head()\n"
   ]
  },
  {
   "cell_type": "code",
   "execution_count": 128,
   "metadata": {},
   "outputs": [
    {
     "data": {
      "text/plain": [
       "True"
      ]
     },
     "execution_count": 128,
     "metadata": {},
     "output_type": "execute_result"
    }
   ],
   "source": [
    "a.index.is_unique"
   ]
  },
  {
   "cell_type": "code",
   "execution_count": 132,
   "metadata": {},
   "outputs": [
    {
     "data": {
      "text/html": [
       "<div>\n",
       "<style scoped>\n",
       "    .dataframe tbody tr th:only-of-type {\n",
       "        vertical-align: middle;\n",
       "    }\n",
       "\n",
       "    .dataframe tbody tr th {\n",
       "        vertical-align: top;\n",
       "    }\n",
       "\n",
       "    .dataframe thead th {\n",
       "        text-align: right;\n",
       "    }\n",
       "</style>\n",
       "<table border=\"1\" class=\"dataframe\">\n",
       "  <thead>\n",
       "    <tr style=\"text-align: right;\">\n",
       "      <th></th>\n",
       "      <th>India</th>\n",
       "      <th>China</th>\n",
       "      <th>USA</th>\n",
       "      <th>canda</th>\n",
       "    </tr>\n",
       "  </thead>\n",
       "  <tbody>\n",
       "    <tr>\n",
       "      <th>1999-02-18</th>\n",
       "      <td>0.879427</td>\n",
       "      <td>0.753055</td>\n",
       "      <td>0.851018</td>\n",
       "      <td>0.707657</td>\n",
       "    </tr>\n",
       "    <tr>\n",
       "      <th>1999-02-19</th>\n",
       "      <td>0.967770</td>\n",
       "      <td>0.158161</td>\n",
       "      <td>0.167113</td>\n",
       "      <td>0.372474</td>\n",
       "    </tr>\n",
       "    <tr>\n",
       "      <th>1999-02-20</th>\n",
       "      <td>0.149213</td>\n",
       "      <td>0.173850</td>\n",
       "      <td>0.796525</td>\n",
       "      <td>0.128753</td>\n",
       "    </tr>\n",
       "    <tr>\n",
       "      <th>1999-02-21</th>\n",
       "      <td>0.398834</td>\n",
       "      <td>0.142683</td>\n",
       "      <td>0.123590</td>\n",
       "      <td>0.586915</td>\n",
       "    </tr>\n",
       "    <tr>\n",
       "      <th>1999-02-22</th>\n",
       "      <td>0.354885</td>\n",
       "      <td>0.530041</td>\n",
       "      <td>0.140886</td>\n",
       "      <td>0.229532</td>\n",
       "    </tr>\n",
       "    <tr>\n",
       "      <th>1999-02-23</th>\n",
       "      <td>0.235653</td>\n",
       "      <td>0.826710</td>\n",
       "      <td>0.954999</td>\n",
       "      <td>0.013473</td>\n",
       "    </tr>\n",
       "    <tr>\n",
       "      <th>1999-02-24</th>\n",
       "      <td>0.935012</td>\n",
       "      <td>0.710439</td>\n",
       "      <td>0.797633</td>\n",
       "      <td>0.946945</td>\n",
       "    </tr>\n",
       "    <tr>\n",
       "      <th>1999-02-25</th>\n",
       "      <td>0.930611</td>\n",
       "      <td>0.147287</td>\n",
       "      <td>0.058757</td>\n",
       "      <td>0.748465</td>\n",
       "    </tr>\n",
       "    <tr>\n",
       "      <th>1999-02-26</th>\n",
       "      <td>0.976811</td>\n",
       "      <td>0.456481</td>\n",
       "      <td>0.482856</td>\n",
       "      <td>0.687369</td>\n",
       "    </tr>\n",
       "    <tr>\n",
       "      <th>1999-02-27</th>\n",
       "      <td>0.977778</td>\n",
       "      <td>0.529229</td>\n",
       "      <td>0.383184</td>\n",
       "      <td>0.944260</td>\n",
       "    </tr>\n",
       "    <tr>\n",
       "      <th>1999-02-28</th>\n",
       "      <td>0.348146</td>\n",
       "      <td>0.295141</td>\n",
       "      <td>0.006202</td>\n",
       "      <td>0.562161</td>\n",
       "    </tr>\n",
       "    <tr>\n",
       "      <th>1999-03-01</th>\n",
       "      <td>0.825642</td>\n",
       "      <td>0.869153</td>\n",
       "      <td>0.542474</td>\n",
       "      <td>0.620845</td>\n",
       "    </tr>\n",
       "    <tr>\n",
       "      <th>1999-03-02</th>\n",
       "      <td>0.520176</td>\n",
       "      <td>0.196141</td>\n",
       "      <td>0.756978</td>\n",
       "      <td>0.684970</td>\n",
       "    </tr>\n",
       "    <tr>\n",
       "      <th>1999-03-03</th>\n",
       "      <td>0.691360</td>\n",
       "      <td>0.787139</td>\n",
       "      <td>0.150631</td>\n",
       "      <td>0.273141</td>\n",
       "    </tr>\n",
       "    <tr>\n",
       "      <th>1999-03-04</th>\n",
       "      <td>0.668327</td>\n",
       "      <td>0.260469</td>\n",
       "      <td>0.688262</td>\n",
       "      <td>0.495003</td>\n",
       "    </tr>\n",
       "    <tr>\n",
       "      <th>1999-03-05</th>\n",
       "      <td>0.302913</td>\n",
       "      <td>0.458637</td>\n",
       "      <td>0.763101</td>\n",
       "      <td>0.869846</td>\n",
       "    </tr>\n",
       "    <tr>\n",
       "      <th>1999-03-06</th>\n",
       "      <td>0.152964</td>\n",
       "      <td>0.121449</td>\n",
       "      <td>0.474921</td>\n",
       "      <td>0.659812</td>\n",
       "    </tr>\n",
       "    <tr>\n",
       "      <th>1999-03-07</th>\n",
       "      <td>0.822007</td>\n",
       "      <td>0.985703</td>\n",
       "      <td>0.934383</td>\n",
       "      <td>0.014968</td>\n",
       "    </tr>\n",
       "    <tr>\n",
       "      <th>1999-03-08</th>\n",
       "      <td>0.964911</td>\n",
       "      <td>0.664926</td>\n",
       "      <td>0.375427</td>\n",
       "      <td>0.470494</td>\n",
       "    </tr>\n",
       "    <tr>\n",
       "      <th>1999-03-09</th>\n",
       "      <td>0.134470</td>\n",
       "      <td>0.138324</td>\n",
       "      <td>0.443816</td>\n",
       "      <td>0.502942</td>\n",
       "    </tr>\n",
       "    <tr>\n",
       "      <th>1999-03-10</th>\n",
       "      <td>0.415514</td>\n",
       "      <td>0.097603</td>\n",
       "      <td>0.595900</td>\n",
       "      <td>0.844820</td>\n",
       "    </tr>\n",
       "    <tr>\n",
       "      <th>1999-03-11</th>\n",
       "      <td>0.502403</td>\n",
       "      <td>0.447740</td>\n",
       "      <td>0.105848</td>\n",
       "      <td>0.979856</td>\n",
       "    </tr>\n",
       "    <tr>\n",
       "      <th>1999-03-12</th>\n",
       "      <td>0.741653</td>\n",
       "      <td>0.998385</td>\n",
       "      <td>0.801528</td>\n",
       "      <td>0.361804</td>\n",
       "    </tr>\n",
       "    <tr>\n",
       "      <th>1999-03-13</th>\n",
       "      <td>0.235450</td>\n",
       "      <td>0.037330</td>\n",
       "      <td>0.113234</td>\n",
       "      <td>0.670890</td>\n",
       "    </tr>\n",
       "    <tr>\n",
       "      <th>1999-03-14</th>\n",
       "      <td>0.267594</td>\n",
       "      <td>0.981723</td>\n",
       "      <td>0.509645</td>\n",
       "      <td>0.779275</td>\n",
       "    </tr>\n",
       "    <tr>\n",
       "      <th>1999-03-15</th>\n",
       "      <td>0.994027</td>\n",
       "      <td>0.929048</td>\n",
       "      <td>0.269371</td>\n",
       "      <td>0.544363</td>\n",
       "    </tr>\n",
       "    <tr>\n",
       "      <th>1999-03-16</th>\n",
       "      <td>0.840224</td>\n",
       "      <td>0.861299</td>\n",
       "      <td>0.883597</td>\n",
       "      <td>0.849710</td>\n",
       "    </tr>\n",
       "    <tr>\n",
       "      <th>1999-03-17</th>\n",
       "      <td>0.071741</td>\n",
       "      <td>0.917344</td>\n",
       "      <td>0.874396</td>\n",
       "      <td>0.485238</td>\n",
       "    </tr>\n",
       "    <tr>\n",
       "      <th>1999-03-18</th>\n",
       "      <td>0.219525</td>\n",
       "      <td>0.151017</td>\n",
       "      <td>0.899945</td>\n",
       "      <td>0.084780</td>\n",
       "    </tr>\n",
       "    <tr>\n",
       "      <th>1999-03-19</th>\n",
       "      <td>0.733466</td>\n",
       "      <td>0.587406</td>\n",
       "      <td>0.555257</td>\n",
       "      <td>0.155588</td>\n",
       "    </tr>\n",
       "    <tr>\n",
       "      <th>...</th>\n",
       "      <td>...</td>\n",
       "      <td>...</td>\n",
       "      <td>...</td>\n",
       "      <td>...</td>\n",
       "    </tr>\n",
       "    <tr>\n",
       "      <th>1999-04-29</th>\n",
       "      <td>0.937680</td>\n",
       "      <td>0.953033</td>\n",
       "      <td>0.770598</td>\n",
       "      <td>0.768076</td>\n",
       "    </tr>\n",
       "    <tr>\n",
       "      <th>1999-04-30</th>\n",
       "      <td>0.001980</td>\n",
       "      <td>0.529313</td>\n",
       "      <td>0.222399</td>\n",
       "      <td>0.262028</td>\n",
       "    </tr>\n",
       "    <tr>\n",
       "      <th>1999-05-01</th>\n",
       "      <td>0.026538</td>\n",
       "      <td>0.533519</td>\n",
       "      <td>0.604153</td>\n",
       "      <td>0.572245</td>\n",
       "    </tr>\n",
       "    <tr>\n",
       "      <th>1999-05-02</th>\n",
       "      <td>0.929133</td>\n",
       "      <td>0.458585</td>\n",
       "      <td>0.042322</td>\n",
       "      <td>0.502999</td>\n",
       "    </tr>\n",
       "    <tr>\n",
       "      <th>1999-05-03</th>\n",
       "      <td>0.271686</td>\n",
       "      <td>0.627654</td>\n",
       "      <td>0.416280</td>\n",
       "      <td>0.877317</td>\n",
       "    </tr>\n",
       "    <tr>\n",
       "      <th>1999-05-04</th>\n",
       "      <td>0.112491</td>\n",
       "      <td>0.946308</td>\n",
       "      <td>0.351801</td>\n",
       "      <td>0.973529</td>\n",
       "    </tr>\n",
       "    <tr>\n",
       "      <th>1999-05-05</th>\n",
       "      <td>0.213383</td>\n",
       "      <td>0.760551</td>\n",
       "      <td>0.222984</td>\n",
       "      <td>0.374924</td>\n",
       "    </tr>\n",
       "    <tr>\n",
       "      <th>1999-05-06</th>\n",
       "      <td>0.203252</td>\n",
       "      <td>0.458245</td>\n",
       "      <td>0.412288</td>\n",
       "      <td>0.498609</td>\n",
       "    </tr>\n",
       "    <tr>\n",
       "      <th>1999-05-07</th>\n",
       "      <td>0.026777</td>\n",
       "      <td>0.526111</td>\n",
       "      <td>0.742714</td>\n",
       "      <td>0.079991</td>\n",
       "    </tr>\n",
       "    <tr>\n",
       "      <th>1999-05-08</th>\n",
       "      <td>0.652718</td>\n",
       "      <td>0.118065</td>\n",
       "      <td>0.497216</td>\n",
       "      <td>0.795294</td>\n",
       "    </tr>\n",
       "    <tr>\n",
       "      <th>1999-05-09</th>\n",
       "      <td>0.503291</td>\n",
       "      <td>0.278325</td>\n",
       "      <td>0.361805</td>\n",
       "      <td>0.943434</td>\n",
       "    </tr>\n",
       "    <tr>\n",
       "      <th>1999-05-10</th>\n",
       "      <td>0.279473</td>\n",
       "      <td>0.967786</td>\n",
       "      <td>0.283560</td>\n",
       "      <td>0.497719</td>\n",
       "    </tr>\n",
       "    <tr>\n",
       "      <th>1999-05-11</th>\n",
       "      <td>0.505336</td>\n",
       "      <td>0.936122</td>\n",
       "      <td>0.717002</td>\n",
       "      <td>0.100377</td>\n",
       "    </tr>\n",
       "    <tr>\n",
       "      <th>1999-05-12</th>\n",
       "      <td>0.905607</td>\n",
       "      <td>0.531795</td>\n",
       "      <td>0.157020</td>\n",
       "      <td>0.820922</td>\n",
       "    </tr>\n",
       "    <tr>\n",
       "      <th>1999-05-13</th>\n",
       "      <td>0.479142</td>\n",
       "      <td>0.650561</td>\n",
       "      <td>0.910146</td>\n",
       "      <td>0.801945</td>\n",
       "    </tr>\n",
       "    <tr>\n",
       "      <th>1999-05-14</th>\n",
       "      <td>0.039020</td>\n",
       "      <td>0.294042</td>\n",
       "      <td>0.942920</td>\n",
       "      <td>0.914358</td>\n",
       "    </tr>\n",
       "    <tr>\n",
       "      <th>1999-05-15</th>\n",
       "      <td>0.739780</td>\n",
       "      <td>0.641142</td>\n",
       "      <td>0.039412</td>\n",
       "      <td>0.323862</td>\n",
       "    </tr>\n",
       "    <tr>\n",
       "      <th>1999-05-16</th>\n",
       "      <td>0.925283</td>\n",
       "      <td>0.811035</td>\n",
       "      <td>0.798725</td>\n",
       "      <td>0.809353</td>\n",
       "    </tr>\n",
       "    <tr>\n",
       "      <th>1999-05-17</th>\n",
       "      <td>0.951696</td>\n",
       "      <td>0.854991</td>\n",
       "      <td>0.509280</td>\n",
       "      <td>0.984614</td>\n",
       "    </tr>\n",
       "    <tr>\n",
       "      <th>1999-05-18</th>\n",
       "      <td>0.104422</td>\n",
       "      <td>0.490589</td>\n",
       "      <td>0.786484</td>\n",
       "      <td>0.125888</td>\n",
       "    </tr>\n",
       "    <tr>\n",
       "      <th>1999-05-19</th>\n",
       "      <td>0.776716</td>\n",
       "      <td>0.467906</td>\n",
       "      <td>0.360213</td>\n",
       "      <td>0.065473</td>\n",
       "    </tr>\n",
       "    <tr>\n",
       "      <th>1999-05-20</th>\n",
       "      <td>0.982485</td>\n",
       "      <td>0.600444</td>\n",
       "      <td>0.878384</td>\n",
       "      <td>0.093856</td>\n",
       "    </tr>\n",
       "    <tr>\n",
       "      <th>1999-05-21</th>\n",
       "      <td>0.009544</td>\n",
       "      <td>0.684203</td>\n",
       "      <td>0.771469</td>\n",
       "      <td>0.147992</td>\n",
       "    </tr>\n",
       "    <tr>\n",
       "      <th>1999-05-22</th>\n",
       "      <td>0.929023</td>\n",
       "      <td>0.873583</td>\n",
       "      <td>0.110828</td>\n",
       "      <td>0.271158</td>\n",
       "    </tr>\n",
       "    <tr>\n",
       "      <th>1999-05-23</th>\n",
       "      <td>0.147458</td>\n",
       "      <td>0.449104</td>\n",
       "      <td>0.929622</td>\n",
       "      <td>0.336976</td>\n",
       "    </tr>\n",
       "    <tr>\n",
       "      <th>1999-05-24</th>\n",
       "      <td>0.597454</td>\n",
       "      <td>0.044728</td>\n",
       "      <td>0.663327</td>\n",
       "      <td>0.462705</td>\n",
       "    </tr>\n",
       "    <tr>\n",
       "      <th>1999-05-25</th>\n",
       "      <td>0.840417</td>\n",
       "      <td>0.499127</td>\n",
       "      <td>0.912965</td>\n",
       "      <td>0.294966</td>\n",
       "    </tr>\n",
       "    <tr>\n",
       "      <th>1999-05-26</th>\n",
       "      <td>0.894246</td>\n",
       "      <td>0.372938</td>\n",
       "      <td>0.617493</td>\n",
       "      <td>0.898434</td>\n",
       "    </tr>\n",
       "    <tr>\n",
       "      <th>1999-05-27</th>\n",
       "      <td>0.859279</td>\n",
       "      <td>0.007287</td>\n",
       "      <td>0.759272</td>\n",
       "      <td>0.003519</td>\n",
       "    </tr>\n",
       "    <tr>\n",
       "      <th>1999-05-28</th>\n",
       "      <td>0.965932</td>\n",
       "      <td>0.544815</td>\n",
       "      <td>0.518837</td>\n",
       "      <td>0.320895</td>\n",
       "    </tr>\n",
       "  </tbody>\n",
       "</table>\n",
       "<p>100 rows × 4 columns</p>\n",
       "</div>"
      ],
      "text/plain": [
       "               India     China       USA     canda\n",
       "1999-02-18  0.879427  0.753055  0.851018  0.707657\n",
       "1999-02-19  0.967770  0.158161  0.167113  0.372474\n",
       "1999-02-20  0.149213  0.173850  0.796525  0.128753\n",
       "1999-02-21  0.398834  0.142683  0.123590  0.586915\n",
       "1999-02-22  0.354885  0.530041  0.140886  0.229532\n",
       "1999-02-23  0.235653  0.826710  0.954999  0.013473\n",
       "1999-02-24  0.935012  0.710439  0.797633  0.946945\n",
       "1999-02-25  0.930611  0.147287  0.058757  0.748465\n",
       "1999-02-26  0.976811  0.456481  0.482856  0.687369\n",
       "1999-02-27  0.977778  0.529229  0.383184  0.944260\n",
       "1999-02-28  0.348146  0.295141  0.006202  0.562161\n",
       "1999-03-01  0.825642  0.869153  0.542474  0.620845\n",
       "1999-03-02  0.520176  0.196141  0.756978  0.684970\n",
       "1999-03-03  0.691360  0.787139  0.150631  0.273141\n",
       "1999-03-04  0.668327  0.260469  0.688262  0.495003\n",
       "1999-03-05  0.302913  0.458637  0.763101  0.869846\n",
       "1999-03-06  0.152964  0.121449  0.474921  0.659812\n",
       "1999-03-07  0.822007  0.985703  0.934383  0.014968\n",
       "1999-03-08  0.964911  0.664926  0.375427  0.470494\n",
       "1999-03-09  0.134470  0.138324  0.443816  0.502942\n",
       "1999-03-10  0.415514  0.097603  0.595900  0.844820\n",
       "1999-03-11  0.502403  0.447740  0.105848  0.979856\n",
       "1999-03-12  0.741653  0.998385  0.801528  0.361804\n",
       "1999-03-13  0.235450  0.037330  0.113234  0.670890\n",
       "1999-03-14  0.267594  0.981723  0.509645  0.779275\n",
       "1999-03-15  0.994027  0.929048  0.269371  0.544363\n",
       "1999-03-16  0.840224  0.861299  0.883597  0.849710\n",
       "1999-03-17  0.071741  0.917344  0.874396  0.485238\n",
       "1999-03-18  0.219525  0.151017  0.899945  0.084780\n",
       "1999-03-19  0.733466  0.587406  0.555257  0.155588\n",
       "...              ...       ...       ...       ...\n",
       "1999-04-29  0.937680  0.953033  0.770598  0.768076\n",
       "1999-04-30  0.001980  0.529313  0.222399  0.262028\n",
       "1999-05-01  0.026538  0.533519  0.604153  0.572245\n",
       "1999-05-02  0.929133  0.458585  0.042322  0.502999\n",
       "1999-05-03  0.271686  0.627654  0.416280  0.877317\n",
       "1999-05-04  0.112491  0.946308  0.351801  0.973529\n",
       "1999-05-05  0.213383  0.760551  0.222984  0.374924\n",
       "1999-05-06  0.203252  0.458245  0.412288  0.498609\n",
       "1999-05-07  0.026777  0.526111  0.742714  0.079991\n",
       "1999-05-08  0.652718  0.118065  0.497216  0.795294\n",
       "1999-05-09  0.503291  0.278325  0.361805  0.943434\n",
       "1999-05-10  0.279473  0.967786  0.283560  0.497719\n",
       "1999-05-11  0.505336  0.936122  0.717002  0.100377\n",
       "1999-05-12  0.905607  0.531795  0.157020  0.820922\n",
       "1999-05-13  0.479142  0.650561  0.910146  0.801945\n",
       "1999-05-14  0.039020  0.294042  0.942920  0.914358\n",
       "1999-05-15  0.739780  0.641142  0.039412  0.323862\n",
       "1999-05-16  0.925283  0.811035  0.798725  0.809353\n",
       "1999-05-17  0.951696  0.854991  0.509280  0.984614\n",
       "1999-05-18  0.104422  0.490589  0.786484  0.125888\n",
       "1999-05-19  0.776716  0.467906  0.360213  0.065473\n",
       "1999-05-20  0.982485  0.600444  0.878384  0.093856\n",
       "1999-05-21  0.009544  0.684203  0.771469  0.147992\n",
       "1999-05-22  0.929023  0.873583  0.110828  0.271158\n",
       "1999-05-23  0.147458  0.449104  0.929622  0.336976\n",
       "1999-05-24  0.597454  0.044728  0.663327  0.462705\n",
       "1999-05-25  0.840417  0.499127  0.912965  0.294966\n",
       "1999-05-26  0.894246  0.372938  0.617493  0.898434\n",
       "1999-05-27  0.859279  0.007287  0.759272  0.003519\n",
       "1999-05-28  0.965932  0.544815  0.518837  0.320895\n",
       "\n",
       "[100 rows x 4 columns]"
      ]
     },
     "execution_count": 132,
     "metadata": {},
     "output_type": "execute_result"
    }
   ],
   "source": [
    "a.loc[\"1999-02-18\":]"
   ]
  },
  {
   "cell_type": "code",
   "execution_count": 130,
   "metadata": {},
   "outputs": [
    {
     "data": {
      "text/plain": [
       "India    0.879427\n",
       "China    0.753055\n",
       "USA      0.851018\n",
       "canda    0.707657\n",
       "Name: 1999-02-18 00:00:00, dtype: float64"
      ]
     },
     "execution_count": 130,
     "metadata": {},
     "output_type": "execute_result"
    }
   ],
   "source": [
    "a.iloc[0]"
   ]
  },
  {
   "cell_type": "code",
   "execution_count": 138,
   "metadata": {},
   "outputs": [
    {
     "data": {
      "text/plain": [
       "<pandas.core.groupby.generic.DataFrameGroupBy object at 0x000002A32D3A8A58>"
      ]
     },
     "execution_count": 138,
     "metadata": {},
     "output_type": "execute_result"
    }
   ],
   "source": [
    "group=a.groupby(level=0)\n",
    "group\n"
   ]
  },
  {
   "cell_type": "code",
   "execution_count": 136,
   "metadata": {},
   "outputs": [],
   "source": [
    "a.groupby?"
   ]
  },
  {
   "cell_type": "code",
   "execution_count": 140,
   "metadata": {},
   "outputs": [
    {
     "data": {
      "text/html": [
       "<div>\n",
       "<style scoped>\n",
       "    .dataframe tbody tr th:only-of-type {\n",
       "        vertical-align: middle;\n",
       "    }\n",
       "\n",
       "    .dataframe tbody tr th {\n",
       "        vertical-align: top;\n",
       "    }\n",
       "\n",
       "    .dataframe thead th {\n",
       "        text-align: right;\n",
       "    }\n",
       "</style>\n",
       "<table border=\"1\" class=\"dataframe\">\n",
       "  <thead>\n",
       "    <tr style=\"text-align: right;\">\n",
       "      <th></th>\n",
       "      <th>India</th>\n",
       "      <th>China</th>\n",
       "      <th>USA</th>\n",
       "      <th>canda</th>\n",
       "    </tr>\n",
       "  </thead>\n",
       "  <tbody>\n",
       "    <tr>\n",
       "      <th>1999-02-18</th>\n",
       "      <td>0.879427</td>\n",
       "      <td>0.753055</td>\n",
       "      <td>0.851018</td>\n",
       "      <td>0.707657</td>\n",
       "    </tr>\n",
       "    <tr>\n",
       "      <th>1999-02-19</th>\n",
       "      <td>0.967770</td>\n",
       "      <td>0.158161</td>\n",
       "      <td>0.167113</td>\n",
       "      <td>0.372474</td>\n",
       "    </tr>\n",
       "    <tr>\n",
       "      <th>1999-02-20</th>\n",
       "      <td>0.149213</td>\n",
       "      <td>0.173850</td>\n",
       "      <td>0.796525</td>\n",
       "      <td>0.128753</td>\n",
       "    </tr>\n",
       "    <tr>\n",
       "      <th>1999-02-21</th>\n",
       "      <td>0.398834</td>\n",
       "      <td>0.142683</td>\n",
       "      <td>0.123590</td>\n",
       "      <td>0.586915</td>\n",
       "    </tr>\n",
       "    <tr>\n",
       "      <th>1999-02-22</th>\n",
       "      <td>0.354885</td>\n",
       "      <td>0.530041</td>\n",
       "      <td>0.140886</td>\n",
       "      <td>0.229532</td>\n",
       "    </tr>\n",
       "    <tr>\n",
       "      <th>1999-02-23</th>\n",
       "      <td>0.235653</td>\n",
       "      <td>0.826710</td>\n",
       "      <td>0.954999</td>\n",
       "      <td>0.013473</td>\n",
       "    </tr>\n",
       "    <tr>\n",
       "      <th>1999-02-24</th>\n",
       "      <td>0.935012</td>\n",
       "      <td>0.710439</td>\n",
       "      <td>0.797633</td>\n",
       "      <td>0.946945</td>\n",
       "    </tr>\n",
       "    <tr>\n",
       "      <th>1999-02-25</th>\n",
       "      <td>0.930611</td>\n",
       "      <td>0.147287</td>\n",
       "      <td>0.058757</td>\n",
       "      <td>0.748465</td>\n",
       "    </tr>\n",
       "    <tr>\n",
       "      <th>1999-02-26</th>\n",
       "      <td>0.976811</td>\n",
       "      <td>0.456481</td>\n",
       "      <td>0.482856</td>\n",
       "      <td>0.687369</td>\n",
       "    </tr>\n",
       "    <tr>\n",
       "      <th>1999-02-27</th>\n",
       "      <td>0.977778</td>\n",
       "      <td>0.529229</td>\n",
       "      <td>0.383184</td>\n",
       "      <td>0.944260</td>\n",
       "    </tr>\n",
       "    <tr>\n",
       "      <th>1999-02-28</th>\n",
       "      <td>0.348146</td>\n",
       "      <td>0.295141</td>\n",
       "      <td>0.006202</td>\n",
       "      <td>0.562161</td>\n",
       "    </tr>\n",
       "    <tr>\n",
       "      <th>1999-03-01</th>\n",
       "      <td>0.825642</td>\n",
       "      <td>0.869153</td>\n",
       "      <td>0.542474</td>\n",
       "      <td>0.620845</td>\n",
       "    </tr>\n",
       "    <tr>\n",
       "      <th>1999-03-02</th>\n",
       "      <td>0.520176</td>\n",
       "      <td>0.196141</td>\n",
       "      <td>0.756978</td>\n",
       "      <td>0.684970</td>\n",
       "    </tr>\n",
       "    <tr>\n",
       "      <th>1999-03-03</th>\n",
       "      <td>0.691360</td>\n",
       "      <td>0.787139</td>\n",
       "      <td>0.150631</td>\n",
       "      <td>0.273141</td>\n",
       "    </tr>\n",
       "    <tr>\n",
       "      <th>1999-03-04</th>\n",
       "      <td>0.668327</td>\n",
       "      <td>0.260469</td>\n",
       "      <td>0.688262</td>\n",
       "      <td>0.495003</td>\n",
       "    </tr>\n",
       "    <tr>\n",
       "      <th>1999-03-05</th>\n",
       "      <td>0.302913</td>\n",
       "      <td>0.458637</td>\n",
       "      <td>0.763101</td>\n",
       "      <td>0.869846</td>\n",
       "    </tr>\n",
       "    <tr>\n",
       "      <th>1999-03-06</th>\n",
       "      <td>0.152964</td>\n",
       "      <td>0.121449</td>\n",
       "      <td>0.474921</td>\n",
       "      <td>0.659812</td>\n",
       "    </tr>\n",
       "    <tr>\n",
       "      <th>1999-03-07</th>\n",
       "      <td>0.822007</td>\n",
       "      <td>0.985703</td>\n",
       "      <td>0.934383</td>\n",
       "      <td>0.014968</td>\n",
       "    </tr>\n",
       "    <tr>\n",
       "      <th>1999-03-08</th>\n",
       "      <td>0.964911</td>\n",
       "      <td>0.664926</td>\n",
       "      <td>0.375427</td>\n",
       "      <td>0.470494</td>\n",
       "    </tr>\n",
       "    <tr>\n",
       "      <th>1999-03-09</th>\n",
       "      <td>0.134470</td>\n",
       "      <td>0.138324</td>\n",
       "      <td>0.443816</td>\n",
       "      <td>0.502942</td>\n",
       "    </tr>\n",
       "    <tr>\n",
       "      <th>1999-03-10</th>\n",
       "      <td>0.415514</td>\n",
       "      <td>0.097603</td>\n",
       "      <td>0.595900</td>\n",
       "      <td>0.844820</td>\n",
       "    </tr>\n",
       "    <tr>\n",
       "      <th>1999-03-11</th>\n",
       "      <td>0.502403</td>\n",
       "      <td>0.447740</td>\n",
       "      <td>0.105848</td>\n",
       "      <td>0.979856</td>\n",
       "    </tr>\n",
       "    <tr>\n",
       "      <th>1999-03-12</th>\n",
       "      <td>0.741653</td>\n",
       "      <td>0.998385</td>\n",
       "      <td>0.801528</td>\n",
       "      <td>0.361804</td>\n",
       "    </tr>\n",
       "    <tr>\n",
       "      <th>1999-03-13</th>\n",
       "      <td>0.235450</td>\n",
       "      <td>0.037330</td>\n",
       "      <td>0.113234</td>\n",
       "      <td>0.670890</td>\n",
       "    </tr>\n",
       "    <tr>\n",
       "      <th>1999-03-14</th>\n",
       "      <td>0.267594</td>\n",
       "      <td>0.981723</td>\n",
       "      <td>0.509645</td>\n",
       "      <td>0.779275</td>\n",
       "    </tr>\n",
       "    <tr>\n",
       "      <th>1999-03-15</th>\n",
       "      <td>0.994027</td>\n",
       "      <td>0.929048</td>\n",
       "      <td>0.269371</td>\n",
       "      <td>0.544363</td>\n",
       "    </tr>\n",
       "    <tr>\n",
       "      <th>1999-03-16</th>\n",
       "      <td>0.840224</td>\n",
       "      <td>0.861299</td>\n",
       "      <td>0.883597</td>\n",
       "      <td>0.849710</td>\n",
       "    </tr>\n",
       "    <tr>\n",
       "      <th>1999-03-17</th>\n",
       "      <td>0.071741</td>\n",
       "      <td>0.917344</td>\n",
       "      <td>0.874396</td>\n",
       "      <td>0.485238</td>\n",
       "    </tr>\n",
       "    <tr>\n",
       "      <th>1999-03-18</th>\n",
       "      <td>0.219525</td>\n",
       "      <td>0.151017</td>\n",
       "      <td>0.899945</td>\n",
       "      <td>0.084780</td>\n",
       "    </tr>\n",
       "    <tr>\n",
       "      <th>1999-03-19</th>\n",
       "      <td>0.733466</td>\n",
       "      <td>0.587406</td>\n",
       "      <td>0.555257</td>\n",
       "      <td>0.155588</td>\n",
       "    </tr>\n",
       "    <tr>\n",
       "      <th>...</th>\n",
       "      <td>...</td>\n",
       "      <td>...</td>\n",
       "      <td>...</td>\n",
       "      <td>...</td>\n",
       "    </tr>\n",
       "    <tr>\n",
       "      <th>1999-04-29</th>\n",
       "      <td>0.937680</td>\n",
       "      <td>0.953033</td>\n",
       "      <td>0.770598</td>\n",
       "      <td>0.768076</td>\n",
       "    </tr>\n",
       "    <tr>\n",
       "      <th>1999-04-30</th>\n",
       "      <td>0.001980</td>\n",
       "      <td>0.529313</td>\n",
       "      <td>0.222399</td>\n",
       "      <td>0.262028</td>\n",
       "    </tr>\n",
       "    <tr>\n",
       "      <th>1999-05-01</th>\n",
       "      <td>0.026538</td>\n",
       "      <td>0.533519</td>\n",
       "      <td>0.604153</td>\n",
       "      <td>0.572245</td>\n",
       "    </tr>\n",
       "    <tr>\n",
       "      <th>1999-05-02</th>\n",
       "      <td>0.929133</td>\n",
       "      <td>0.458585</td>\n",
       "      <td>0.042322</td>\n",
       "      <td>0.502999</td>\n",
       "    </tr>\n",
       "    <tr>\n",
       "      <th>1999-05-03</th>\n",
       "      <td>0.271686</td>\n",
       "      <td>0.627654</td>\n",
       "      <td>0.416280</td>\n",
       "      <td>0.877317</td>\n",
       "    </tr>\n",
       "    <tr>\n",
       "      <th>1999-05-04</th>\n",
       "      <td>0.112491</td>\n",
       "      <td>0.946308</td>\n",
       "      <td>0.351801</td>\n",
       "      <td>0.973529</td>\n",
       "    </tr>\n",
       "    <tr>\n",
       "      <th>1999-05-05</th>\n",
       "      <td>0.213383</td>\n",
       "      <td>0.760551</td>\n",
       "      <td>0.222984</td>\n",
       "      <td>0.374924</td>\n",
       "    </tr>\n",
       "    <tr>\n",
       "      <th>1999-05-06</th>\n",
       "      <td>0.203252</td>\n",
       "      <td>0.458245</td>\n",
       "      <td>0.412288</td>\n",
       "      <td>0.498609</td>\n",
       "    </tr>\n",
       "    <tr>\n",
       "      <th>1999-05-07</th>\n",
       "      <td>0.026777</td>\n",
       "      <td>0.526111</td>\n",
       "      <td>0.742714</td>\n",
       "      <td>0.079991</td>\n",
       "    </tr>\n",
       "    <tr>\n",
       "      <th>1999-05-08</th>\n",
       "      <td>0.652718</td>\n",
       "      <td>0.118065</td>\n",
       "      <td>0.497216</td>\n",
       "      <td>0.795294</td>\n",
       "    </tr>\n",
       "    <tr>\n",
       "      <th>1999-05-09</th>\n",
       "      <td>0.503291</td>\n",
       "      <td>0.278325</td>\n",
       "      <td>0.361805</td>\n",
       "      <td>0.943434</td>\n",
       "    </tr>\n",
       "    <tr>\n",
       "      <th>1999-05-10</th>\n",
       "      <td>0.279473</td>\n",
       "      <td>0.967786</td>\n",
       "      <td>0.283560</td>\n",
       "      <td>0.497719</td>\n",
       "    </tr>\n",
       "    <tr>\n",
       "      <th>1999-05-11</th>\n",
       "      <td>0.505336</td>\n",
       "      <td>0.936122</td>\n",
       "      <td>0.717002</td>\n",
       "      <td>0.100377</td>\n",
       "    </tr>\n",
       "    <tr>\n",
       "      <th>1999-05-12</th>\n",
       "      <td>0.905607</td>\n",
       "      <td>0.531795</td>\n",
       "      <td>0.157020</td>\n",
       "      <td>0.820922</td>\n",
       "    </tr>\n",
       "    <tr>\n",
       "      <th>1999-05-13</th>\n",
       "      <td>0.479142</td>\n",
       "      <td>0.650561</td>\n",
       "      <td>0.910146</td>\n",
       "      <td>0.801945</td>\n",
       "    </tr>\n",
       "    <tr>\n",
       "      <th>1999-05-14</th>\n",
       "      <td>0.039020</td>\n",
       "      <td>0.294042</td>\n",
       "      <td>0.942920</td>\n",
       "      <td>0.914358</td>\n",
       "    </tr>\n",
       "    <tr>\n",
       "      <th>1999-05-15</th>\n",
       "      <td>0.739780</td>\n",
       "      <td>0.641142</td>\n",
       "      <td>0.039412</td>\n",
       "      <td>0.323862</td>\n",
       "    </tr>\n",
       "    <tr>\n",
       "      <th>1999-05-16</th>\n",
       "      <td>0.925283</td>\n",
       "      <td>0.811035</td>\n",
       "      <td>0.798725</td>\n",
       "      <td>0.809353</td>\n",
       "    </tr>\n",
       "    <tr>\n",
       "      <th>1999-05-17</th>\n",
       "      <td>0.951696</td>\n",
       "      <td>0.854991</td>\n",
       "      <td>0.509280</td>\n",
       "      <td>0.984614</td>\n",
       "    </tr>\n",
       "    <tr>\n",
       "      <th>1999-05-18</th>\n",
       "      <td>0.104422</td>\n",
       "      <td>0.490589</td>\n",
       "      <td>0.786484</td>\n",
       "      <td>0.125888</td>\n",
       "    </tr>\n",
       "    <tr>\n",
       "      <th>1999-05-19</th>\n",
       "      <td>0.776716</td>\n",
       "      <td>0.467906</td>\n",
       "      <td>0.360213</td>\n",
       "      <td>0.065473</td>\n",
       "    </tr>\n",
       "    <tr>\n",
       "      <th>1999-05-20</th>\n",
       "      <td>0.982485</td>\n",
       "      <td>0.600444</td>\n",
       "      <td>0.878384</td>\n",
       "      <td>0.093856</td>\n",
       "    </tr>\n",
       "    <tr>\n",
       "      <th>1999-05-21</th>\n",
       "      <td>0.009544</td>\n",
       "      <td>0.684203</td>\n",
       "      <td>0.771469</td>\n",
       "      <td>0.147992</td>\n",
       "    </tr>\n",
       "    <tr>\n",
       "      <th>1999-05-22</th>\n",
       "      <td>0.929023</td>\n",
       "      <td>0.873583</td>\n",
       "      <td>0.110828</td>\n",
       "      <td>0.271158</td>\n",
       "    </tr>\n",
       "    <tr>\n",
       "      <th>1999-05-23</th>\n",
       "      <td>0.147458</td>\n",
       "      <td>0.449104</td>\n",
       "      <td>0.929622</td>\n",
       "      <td>0.336976</td>\n",
       "    </tr>\n",
       "    <tr>\n",
       "      <th>1999-05-24</th>\n",
       "      <td>0.597454</td>\n",
       "      <td>0.044728</td>\n",
       "      <td>0.663327</td>\n",
       "      <td>0.462705</td>\n",
       "    </tr>\n",
       "    <tr>\n",
       "      <th>1999-05-25</th>\n",
       "      <td>0.840417</td>\n",
       "      <td>0.499127</td>\n",
       "      <td>0.912965</td>\n",
       "      <td>0.294966</td>\n",
       "    </tr>\n",
       "    <tr>\n",
       "      <th>1999-05-26</th>\n",
       "      <td>0.894246</td>\n",
       "      <td>0.372938</td>\n",
       "      <td>0.617493</td>\n",
       "      <td>0.898434</td>\n",
       "    </tr>\n",
       "    <tr>\n",
       "      <th>1999-05-27</th>\n",
       "      <td>0.859279</td>\n",
       "      <td>0.007287</td>\n",
       "      <td>0.759272</td>\n",
       "      <td>0.003519</td>\n",
       "    </tr>\n",
       "    <tr>\n",
       "      <th>1999-05-28</th>\n",
       "      <td>0.965932</td>\n",
       "      <td>0.544815</td>\n",
       "      <td>0.518837</td>\n",
       "      <td>0.320895</td>\n",
       "    </tr>\n",
       "  </tbody>\n",
       "</table>\n",
       "<p>100 rows × 4 columns</p>\n",
       "</div>"
      ],
      "text/plain": [
       "               India     China       USA     canda\n",
       "1999-02-18  0.879427  0.753055  0.851018  0.707657\n",
       "1999-02-19  0.967770  0.158161  0.167113  0.372474\n",
       "1999-02-20  0.149213  0.173850  0.796525  0.128753\n",
       "1999-02-21  0.398834  0.142683  0.123590  0.586915\n",
       "1999-02-22  0.354885  0.530041  0.140886  0.229532\n",
       "1999-02-23  0.235653  0.826710  0.954999  0.013473\n",
       "1999-02-24  0.935012  0.710439  0.797633  0.946945\n",
       "1999-02-25  0.930611  0.147287  0.058757  0.748465\n",
       "1999-02-26  0.976811  0.456481  0.482856  0.687369\n",
       "1999-02-27  0.977778  0.529229  0.383184  0.944260\n",
       "1999-02-28  0.348146  0.295141  0.006202  0.562161\n",
       "1999-03-01  0.825642  0.869153  0.542474  0.620845\n",
       "1999-03-02  0.520176  0.196141  0.756978  0.684970\n",
       "1999-03-03  0.691360  0.787139  0.150631  0.273141\n",
       "1999-03-04  0.668327  0.260469  0.688262  0.495003\n",
       "1999-03-05  0.302913  0.458637  0.763101  0.869846\n",
       "1999-03-06  0.152964  0.121449  0.474921  0.659812\n",
       "1999-03-07  0.822007  0.985703  0.934383  0.014968\n",
       "1999-03-08  0.964911  0.664926  0.375427  0.470494\n",
       "1999-03-09  0.134470  0.138324  0.443816  0.502942\n",
       "1999-03-10  0.415514  0.097603  0.595900  0.844820\n",
       "1999-03-11  0.502403  0.447740  0.105848  0.979856\n",
       "1999-03-12  0.741653  0.998385  0.801528  0.361804\n",
       "1999-03-13  0.235450  0.037330  0.113234  0.670890\n",
       "1999-03-14  0.267594  0.981723  0.509645  0.779275\n",
       "1999-03-15  0.994027  0.929048  0.269371  0.544363\n",
       "1999-03-16  0.840224  0.861299  0.883597  0.849710\n",
       "1999-03-17  0.071741  0.917344  0.874396  0.485238\n",
       "1999-03-18  0.219525  0.151017  0.899945  0.084780\n",
       "1999-03-19  0.733466  0.587406  0.555257  0.155588\n",
       "...              ...       ...       ...       ...\n",
       "1999-04-29  0.937680  0.953033  0.770598  0.768076\n",
       "1999-04-30  0.001980  0.529313  0.222399  0.262028\n",
       "1999-05-01  0.026538  0.533519  0.604153  0.572245\n",
       "1999-05-02  0.929133  0.458585  0.042322  0.502999\n",
       "1999-05-03  0.271686  0.627654  0.416280  0.877317\n",
       "1999-05-04  0.112491  0.946308  0.351801  0.973529\n",
       "1999-05-05  0.213383  0.760551  0.222984  0.374924\n",
       "1999-05-06  0.203252  0.458245  0.412288  0.498609\n",
       "1999-05-07  0.026777  0.526111  0.742714  0.079991\n",
       "1999-05-08  0.652718  0.118065  0.497216  0.795294\n",
       "1999-05-09  0.503291  0.278325  0.361805  0.943434\n",
       "1999-05-10  0.279473  0.967786  0.283560  0.497719\n",
       "1999-05-11  0.505336  0.936122  0.717002  0.100377\n",
       "1999-05-12  0.905607  0.531795  0.157020  0.820922\n",
       "1999-05-13  0.479142  0.650561  0.910146  0.801945\n",
       "1999-05-14  0.039020  0.294042  0.942920  0.914358\n",
       "1999-05-15  0.739780  0.641142  0.039412  0.323862\n",
       "1999-05-16  0.925283  0.811035  0.798725  0.809353\n",
       "1999-05-17  0.951696  0.854991  0.509280  0.984614\n",
       "1999-05-18  0.104422  0.490589  0.786484  0.125888\n",
       "1999-05-19  0.776716  0.467906  0.360213  0.065473\n",
       "1999-05-20  0.982485  0.600444  0.878384  0.093856\n",
       "1999-05-21  0.009544  0.684203  0.771469  0.147992\n",
       "1999-05-22  0.929023  0.873583  0.110828  0.271158\n",
       "1999-05-23  0.147458  0.449104  0.929622  0.336976\n",
       "1999-05-24  0.597454  0.044728  0.663327  0.462705\n",
       "1999-05-25  0.840417  0.499127  0.912965  0.294966\n",
       "1999-05-26  0.894246  0.372938  0.617493  0.898434\n",
       "1999-05-27  0.859279  0.007287  0.759272  0.003519\n",
       "1999-05-28  0.965932  0.544815  0.518837  0.320895\n",
       "\n",
       "[100 rows x 4 columns]"
      ]
     },
     "execution_count": 140,
     "metadata": {},
     "output_type": "execute_result"
    }
   ],
   "source": [
    "group.mean()"
   ]
  },
  {
   "cell_type": "code",
   "execution_count": 152,
   "metadata": {},
   "outputs": [
    {
     "data": {
      "text/plain": [
       "100"
      ]
     },
     "execution_count": 152,
     "metadata": {},
     "output_type": "execute_result"
    }
   ],
   "source": [
    "a['India'].count()"
   ]
  },
  {
   "cell_type": "code",
   "execution_count": 151,
   "metadata": {},
   "outputs": [
    {
     "data": {
      "text/plain": [
       "100"
      ]
     },
     "execution_count": 151,
     "metadata": {},
     "output_type": "execute_result"
    }
   ],
   "source": [
    "a['India'].unique().size"
   ]
  },
  {
   "cell_type": "code",
   "execution_count": 153,
   "metadata": {},
   "outputs": [
    {
     "data": {
      "text/plain": [
       "India    100\n",
       "China    100\n",
       "USA      100\n",
       "canda    100\n",
       "dtype: int64"
      ]
     },
     "execution_count": 153,
     "metadata": {},
     "output_type": "execute_result"
    }
   ],
   "source": [
    "a.count()"
   ]
  },
  {
   "cell_type": "code",
   "execution_count": 155,
   "metadata": {},
   "outputs": [
    {
     "data": {
      "text/plain": [
       "India    100\n",
       "China    100\n",
       "USA      100\n",
       "canda    100\n",
       "dtype: int64"
      ]
     },
     "execution_count": 155,
     "metadata": {},
     "output_type": "execute_result"
    }
   ],
   "source": [
    "b=a.count()\n",
    "b"
   ]
  },
  {
   "cell_type": "code",
   "execution_count": 159,
   "metadata": {},
   "outputs": [
    {
     "data": {
      "text/plain": [
       "DatetimeIndex(['1999-02-28', '1999-05-31', '1999-08-31', '1999-11-30',\n",
       "               '2000-02-29', '2000-05-31', '2000-08-31', '2000-11-30',\n",
       "               '2001-02-28', '2001-05-31'],\n",
       "              dtype='datetime64[ns]', freq='3M')"
      ]
     },
     "execution_count": 159,
     "metadata": {},
     "output_type": "execute_result"
    }
   ],
   "source": [
    "dates=pd.date_range(start=\"18/2/1999\",periods=10,freq=pd.offsets.MonthEnd(3))\n",
    "dates"
   ]
  },
  {
   "cell_type": "code",
   "execution_count": 162,
   "metadata": {},
   "outputs": [
    {
     "data": {
      "text/plain": [
       "DatetimeIndex(['1999-03-01', '1999-06-01', '1999-09-01', '1999-12-01',\n",
       "               '2000-03-01', '2000-06-01', '2000-09-01', '2000-12-01',\n",
       "               '2001-03-01', '2001-06-01'],\n",
       "              dtype='datetime64[ns]', freq='3MS')"
      ]
     },
     "execution_count": 162,
     "metadata": {},
     "output_type": "execute_result"
    }
   ],
   "source": [
    "dates=pd.date_range(start=\"18/2/1999\",periods=10,freq=pd.offsets.MonthBegin(3))\n",
    "dates\n"
   ]
  },
  {
   "cell_type": "code",
   "execution_count": 164,
   "metadata": {},
   "outputs": [
    {
     "data": {
      "text/plain": [
       "DatetimeIndex(['1999-03-01', '1999-06-01', '1999-09-01', '1999-12-01',\n",
       "               '2000-03-01', '2000-06-01', '2000-09-01', '2000-12-01',\n",
       "               '2001-03-01', '2001-06-01'],\n",
       "              dtype='datetime64[ns]', freq='3MS')"
      ]
     },
     "execution_count": 164,
     "metadata": {},
     "output_type": "execute_result"
    }
   ],
   "source": [
    "dates=pd.date_range(start=\"18/2/1999\",periods=10,freq='3MS')\n",
    "dates\n"
   ]
  },
  {
   "cell_type": "code",
   "execution_count": 166,
   "metadata": {},
   "outputs": [],
   "source": [
    "from pandas.tseries.offsets import Hour,Minute"
   ]
  },
  {
   "cell_type": "code",
   "execution_count": 169,
   "metadata": {},
   "outputs": [
    {
     "data": {
      "text/plain": [
       "<4 * Hours>"
      ]
     },
     "execution_count": 169,
     "metadata": {},
     "output_type": "execute_result"
    }
   ],
   "source": [
    "h=Hour(4)\n",
    "h"
   ]
  },
  {
   "cell_type": "code",
   "execution_count": 170,
   "metadata": {},
   "outputs": [
    {
     "data": {
      "text/plain": [
       "<30 * Minutes>"
      ]
     },
     "execution_count": 170,
     "metadata": {},
     "output_type": "execute_result"
    }
   ],
   "source": [
    "m=Minute(30)\n",
    "m"
   ]
  },
  {
   "cell_type": "code",
   "execution_count": 172,
   "metadata": {},
   "outputs": [
    {
     "data": {
      "text/plain": [
       "DatetimeIndex(['2020-02-03 00:00:00', '2020-02-03 04:00:00',\n",
       "               '2020-02-03 08:00:00', '2020-02-03 12:00:00',\n",
       "               '2020-02-03 16:00:00', '2020-02-03 20:00:00',\n",
       "               '2020-02-04 00:00:00', '2020-02-04 04:00:00',\n",
       "               '2020-02-04 08:00:00', '2020-02-04 12:00:00',\n",
       "               ...\n",
       "               '2020-03-03 08:00:00', '2020-03-03 12:00:00',\n",
       "               '2020-03-03 16:00:00', '2020-03-03 20:00:00',\n",
       "               '2020-03-04 00:00:00', '2020-03-04 04:00:00',\n",
       "               '2020-03-04 08:00:00', '2020-03-04 12:00:00',\n",
       "               '2020-03-04 16:00:00', '2020-03-04 20:00:00'],\n",
       "              dtype='datetime64[ns]', length=186, freq='4H')"
      ]
     },
     "execution_count": 172,
     "metadata": {},
     "output_type": "execute_result"
    }
   ],
   "source": [
    "pd.date_range(\"2/3/2020\",'3/4/2020 23:54',freq=\"4H\")"
   ]
  },
  {
   "cell_type": "code",
   "execution_count": 178,
   "metadata": {},
   "outputs": [
    {
     "data": {
      "text/plain": [
       "DatetimeIndex(['2020-02-03 00:00:00', '2020-02-03 04:30:00',\n",
       "               '2020-02-03 09:00:00', '2020-02-03 13:30:00',\n",
       "               '2020-02-03 18:00:00', '2020-02-03 22:30:00',\n",
       "               '2020-02-04 03:00:00', '2020-02-04 07:30:00',\n",
       "               '2020-02-04 12:00:00', '2020-02-04 16:30:00',\n",
       "               ...\n",
       "               '2020-03-03 06:00:00', '2020-03-03 10:30:00',\n",
       "               '2020-03-03 15:00:00', '2020-03-03 19:30:00',\n",
       "               '2020-03-04 00:00:00', '2020-03-04 04:30:00',\n",
       "               '2020-03-04 09:00:00', '2020-03-04 13:30:00',\n",
       "               '2020-03-04 18:00:00', '2020-03-04 22:30:00'],\n",
       "              dtype='datetime64[ns]', length=166, freq='270T')"
      ]
     },
     "execution_count": 178,
     "metadata": {},
     "output_type": "execute_result"
    }
   ],
   "source": [
    "pd.date_range(\"2/3/2020\",'3/4/2020 23:54',freq=\"4H30MIN\")"
   ]
  },
  {
   "cell_type": "code",
   "execution_count": 181,
   "metadata": {},
   "outputs": [
    {
     "data": {
      "text/plain": [
       "DatetimeIndex(['2020-02-03', '2020-02-04', '2020-02-05', '2020-02-06',\n",
       "               '2020-02-07', '2020-02-08', '2020-02-09', '2020-02-10',\n",
       "               '2020-02-11', '2020-02-12'],\n",
       "              dtype='datetime64[ns]', freq='D')"
      ]
     },
     "execution_count": 181,
     "metadata": {},
     "output_type": "execute_result"
    }
   ],
   "source": [
    "s=pd.date_range(\"2/3/2020\",periods=10)\n",
    "s"
   ]
  },
  {
   "cell_type": "code",
   "execution_count": 182,
   "metadata": {},
   "outputs": [
    {
     "name": "stdout",
     "output_type": "stream",
     "text": [
      "0 Monday\n",
      "1 Tuesday\n",
      "2 Wednesday\n",
      "3 Thursday\n",
      "4 Friday\n",
      "5 Saturday\n",
      "6 Sunday\n",
      "0 Monday\n",
      "1 Tuesday\n",
      "2 Wednesday\n"
     ]
    },
    {
     "name": "stderr",
     "output_type": "stream",
     "text": [
      "C:\\ProgramData\\Anaconda3\\lib\\site-packages\\ipykernel_launcher.py:2: FutureWarning: `weekday_name` is deprecated and will be removed in a future version. Use `day_name` instead\n",
      "  \n"
     ]
    }
   ],
   "source": [
    "for i in s:\n",
    "    print(i.dayofweek,i.weekday_name)\n",
    "    "
   ]
  },
  {
   "cell_type": "code",
   "execution_count": 183,
   "metadata": {},
   "outputs": [],
   "source": [
    "a=datetime.now()"
   ]
  },
  {
   "cell_type": "code",
   "execution_count": 184,
   "metadata": {},
   "outputs": [
    {
     "data": {
      "text/plain": [
       "datetime.datetime(2020, 1, 3, 13, 42, 30, 805116)"
      ]
     },
     "execution_count": 184,
     "metadata": {},
     "output_type": "execute_result"
    }
   ],
   "source": [
    "a"
   ]
  },
  {
   "cell_type": "code",
   "execution_count": 185,
   "metadata": {},
   "outputs": [],
   "source": [
    "a=date.today()"
   ]
  },
  {
   "cell_type": "code",
   "execution_count": 186,
   "metadata": {},
   "outputs": [
    {
     "data": {
      "text/plain": [
       "datetime.date(2020, 1, 3)"
      ]
     },
     "execution_count": 186,
     "metadata": {},
     "output_type": "execute_result"
    }
   ],
   "source": [
    "a"
   ]
  },
  {
   "cell_type": "code",
   "execution_count": 187,
   "metadata": {},
   "outputs": [],
   "source": [
    "a=pd.Series(np.random.rand(5),index=pd.date_range(\"2/2/2020\",periods=5))"
   ]
  },
  {
   "cell_type": "code",
   "execution_count": 189,
   "metadata": {},
   "outputs": [
    {
     "data": {
      "text/plain": [
       "2020-02-02         NaN\n",
       "2020-02-03         NaN\n",
       "2020-02-04    0.797484\n",
       "2020-02-05    0.540759\n",
       "2020-02-06    0.183140\n",
       "Freq: D, dtype: float64"
      ]
     },
     "execution_count": 189,
     "metadata": {},
     "output_type": "execute_result"
    }
   ],
   "source": [
    "a.shift(2)"
   ]
  },
  {
   "cell_type": "code",
   "execution_count": 190,
   "metadata": {},
   "outputs": [
    {
     "data": {
      "text/plain": [
       "2020-02-02    0.183140\n",
       "2020-02-03    0.963439\n",
       "2020-02-04    0.431473\n",
       "2020-02-05         NaN\n",
       "2020-02-06         NaN\n",
       "Freq: D, dtype: float64"
      ]
     },
     "execution_count": 190,
     "metadata": {},
     "output_type": "execute_result"
    }
   ],
   "source": [
    "a.shift(-2)"
   ]
  },
  {
   "cell_type": "code",
   "execution_count": 194,
   "metadata": {},
   "outputs": [
    {
     "data": {
      "text/plain": [
       "2020-04-30    0.797484\n",
       "2020-04-30    0.540759\n",
       "2020-04-30    0.183140\n",
       "2020-04-30    0.963439\n",
       "2020-04-30    0.431473\n",
       "Freq: D, dtype: float64"
      ]
     },
     "execution_count": 194,
     "metadata": {},
     "output_type": "execute_result"
    }
   ],
   "source": [
    "a.shift(3,freq='M')"
   ]
  },
  {
   "cell_type": "code",
   "execution_count": 193,
   "metadata": {},
   "outputs": [
    {
     "data": {
      "text/plain": [
       "2020-02-05    0.797484\n",
       "2020-02-06    0.540759\n",
       "2020-02-07    0.183140\n",
       "2020-02-08    0.963439\n",
       "2020-02-09    0.431473\n",
       "Freq: D, dtype: float64"
      ]
     },
     "execution_count": 193,
     "metadata": {},
     "output_type": "execute_result"
    }
   ],
   "source": [
    "a.shift(3,freq='D')"
   ]
  },
  {
   "cell_type": "code",
   "execution_count": 198,
   "metadata": {},
   "outputs": [
    {
     "data": {
      "text/plain": [
       "2020-02-02 00:30:00    0.797484\n",
       "2020-02-03 00:30:00    0.540759\n",
       "2020-02-04 00:30:00    0.183140\n",
       "2020-02-05 00:30:00    0.963439\n",
       "2020-02-06 00:30:00    0.431473\n",
       "Freq: D, dtype: float64"
      ]
     },
     "execution_count": 198,
     "metadata": {},
     "output_type": "execute_result"
    }
   ],
   "source": [
    "a.shift(1,freq='30T')"
   ]
  },
  {
   "cell_type": "code",
   "execution_count": 203,
   "metadata": {},
   "outputs": [
    {
     "data": {
      "text/plain": [
       "Timestamp('2020-01-05 13:54:09.395128')"
      ]
     },
     "execution_count": 203,
     "metadata": {},
     "output_type": "execute_result"
    }
   ],
   "source": [
    "from pandas.tseries.offsets import Day,MonthEnd\n",
    "now=datetime.now()\n",
    "now+2*Day()"
   ]
  },
  {
   "cell_type": "code",
   "execution_count": 204,
   "metadata": {},
   "outputs": [
    {
     "data": {
      "text/plain": [
       "Timestamp('2020-01-04 13:54:09.395128')"
      ]
     },
     "execution_count": 204,
     "metadata": {},
     "output_type": "execute_result"
    }
   ],
   "source": [
    "now +Day()"
   ]
  },
  {
   "cell_type": "code",
   "execution_count": 205,
   "metadata": {},
   "outputs": [
    {
     "data": {
      "text/plain": [
       "Timestamp('2020-01-31 13:54:09.395128')"
      ]
     },
     "execution_count": 205,
     "metadata": {},
     "output_type": "execute_result"
    }
   ],
   "source": [
    "now+MonthEnd()"
   ]
  },
  {
   "cell_type": "code",
   "execution_count": 206,
   "metadata": {},
   "outputs": [
    {
     "data": {
      "text/plain": [
       "Timestamp('2020-02-29 13:54:09.395128')"
      ]
     },
     "execution_count": 206,
     "metadata": {},
     "output_type": "execute_result"
    }
   ],
   "source": [
    "now+MonthEnd(2)"
   ]
  },
  {
   "cell_type": "code",
   "execution_count": 207,
   "metadata": {},
   "outputs": [
    {
     "data": {
      "text/plain": [
       "Timestamp('2019-12-31 13:54:09.395128')"
      ]
     },
     "execution_count": 207,
     "metadata": {},
     "output_type": "execute_result"
    }
   ],
   "source": [
    "a=MonthEnd()\n",
    "a.rollback(now)"
   ]
  },
  {
   "cell_type": "code",
   "execution_count": 210,
   "metadata": {},
   "outputs": [
    {
     "name": "stdout",
     "output_type": "stream",
     "text": [
      "<MonthEnd>\n"
     ]
    },
    {
     "data": {
      "text/plain": [
       "Timestamp('2020-01-31 13:54:09.395128')"
      ]
     },
     "execution_count": 210,
     "metadata": {},
     "output_type": "execute_result"
    }
   ],
   "source": [
    "a=MonthEnd()\n",
    "print(a)\n",
    "a.rollforward(now)"
   ]
  },
  {
   "cell_type": "code",
   "execution_count": 213,
   "metadata": {},
   "outputs": [],
   "source": [
    "import pytz #python time zone"
   ]
  },
  {
   "cell_type": "code",
   "execution_count": 214,
   "metadata": {},
   "outputs": [
    {
     "data": {
      "text/plain": [
       "['Africa/Abidjan',\n",
       " 'Africa/Accra',\n",
       " 'Africa/Addis_Ababa',\n",
       " 'Africa/Algiers',\n",
       " 'Africa/Asmara',\n",
       " 'Africa/Bamako',\n",
       " 'Africa/Bangui',\n",
       " 'Africa/Banjul',\n",
       " 'Africa/Bissau',\n",
       " 'Africa/Blantyre',\n",
       " 'Africa/Brazzaville',\n",
       " 'Africa/Bujumbura',\n",
       " 'Africa/Cairo',\n",
       " 'Africa/Casablanca',\n",
       " 'Africa/Ceuta',\n",
       " 'Africa/Conakry',\n",
       " 'Africa/Dakar',\n",
       " 'Africa/Dar_es_Salaam',\n",
       " 'Africa/Djibouti',\n",
       " 'Africa/Douala',\n",
       " 'Africa/El_Aaiun',\n",
       " 'Africa/Freetown',\n",
       " 'Africa/Gaborone',\n",
       " 'Africa/Harare',\n",
       " 'Africa/Johannesburg',\n",
       " 'Africa/Juba',\n",
       " 'Africa/Kampala',\n",
       " 'Africa/Khartoum',\n",
       " 'Africa/Kigali',\n",
       " 'Africa/Kinshasa',\n",
       " 'Africa/Lagos',\n",
       " 'Africa/Libreville',\n",
       " 'Africa/Lome',\n",
       " 'Africa/Luanda',\n",
       " 'Africa/Lubumbashi',\n",
       " 'Africa/Lusaka',\n",
       " 'Africa/Malabo',\n",
       " 'Africa/Maputo',\n",
       " 'Africa/Maseru',\n",
       " 'Africa/Mbabane',\n",
       " 'Africa/Mogadishu',\n",
       " 'Africa/Monrovia',\n",
       " 'Africa/Nairobi',\n",
       " 'Africa/Ndjamena',\n",
       " 'Africa/Niamey',\n",
       " 'Africa/Nouakchott',\n",
       " 'Africa/Ouagadougou',\n",
       " 'Africa/Porto-Novo',\n",
       " 'Africa/Sao_Tome',\n",
       " 'Africa/Tripoli',\n",
       " 'Africa/Tunis',\n",
       " 'Africa/Windhoek',\n",
       " 'America/Adak',\n",
       " 'America/Anchorage',\n",
       " 'America/Anguilla',\n",
       " 'America/Antigua',\n",
       " 'America/Araguaina',\n",
       " 'America/Argentina/Buenos_Aires',\n",
       " 'America/Argentina/Catamarca',\n",
       " 'America/Argentina/Cordoba',\n",
       " 'America/Argentina/Jujuy',\n",
       " 'America/Argentina/La_Rioja',\n",
       " 'America/Argentina/Mendoza',\n",
       " 'America/Argentina/Rio_Gallegos',\n",
       " 'America/Argentina/Salta',\n",
       " 'America/Argentina/San_Juan',\n",
       " 'America/Argentina/San_Luis',\n",
       " 'America/Argentina/Tucuman',\n",
       " 'America/Argentina/Ushuaia',\n",
       " 'America/Aruba',\n",
       " 'America/Asuncion',\n",
       " 'America/Atikokan',\n",
       " 'America/Bahia',\n",
       " 'America/Bahia_Banderas',\n",
       " 'America/Barbados',\n",
       " 'America/Belem',\n",
       " 'America/Belize',\n",
       " 'America/Blanc-Sablon',\n",
       " 'America/Boa_Vista',\n",
       " 'America/Bogota',\n",
       " 'America/Boise',\n",
       " 'America/Cambridge_Bay',\n",
       " 'America/Campo_Grande',\n",
       " 'America/Cancun',\n",
       " 'America/Caracas',\n",
       " 'America/Cayenne',\n",
       " 'America/Cayman',\n",
       " 'America/Chicago',\n",
       " 'America/Chihuahua',\n",
       " 'America/Costa_Rica',\n",
       " 'America/Creston',\n",
       " 'America/Cuiaba',\n",
       " 'America/Curacao',\n",
       " 'America/Danmarkshavn',\n",
       " 'America/Dawson',\n",
       " 'America/Dawson_Creek',\n",
       " 'America/Denver',\n",
       " 'America/Detroit',\n",
       " 'America/Dominica',\n",
       " 'America/Edmonton',\n",
       " 'America/Eirunepe',\n",
       " 'America/El_Salvador',\n",
       " 'America/Fort_Nelson',\n",
       " 'America/Fortaleza',\n",
       " 'America/Glace_Bay',\n",
       " 'America/Godthab',\n",
       " 'America/Goose_Bay',\n",
       " 'America/Grand_Turk',\n",
       " 'America/Grenada',\n",
       " 'America/Guadeloupe',\n",
       " 'America/Guatemala',\n",
       " 'America/Guayaquil',\n",
       " 'America/Guyana',\n",
       " 'America/Halifax',\n",
       " 'America/Havana',\n",
       " 'America/Hermosillo',\n",
       " 'America/Indiana/Indianapolis',\n",
       " 'America/Indiana/Knox',\n",
       " 'America/Indiana/Marengo',\n",
       " 'America/Indiana/Petersburg',\n",
       " 'America/Indiana/Tell_City',\n",
       " 'America/Indiana/Vevay',\n",
       " 'America/Indiana/Vincennes',\n",
       " 'America/Indiana/Winamac',\n",
       " 'America/Inuvik',\n",
       " 'America/Iqaluit',\n",
       " 'America/Jamaica',\n",
       " 'America/Juneau',\n",
       " 'America/Kentucky/Louisville',\n",
       " 'America/Kentucky/Monticello',\n",
       " 'America/Kralendijk',\n",
       " 'America/La_Paz',\n",
       " 'America/Lima',\n",
       " 'America/Los_Angeles',\n",
       " 'America/Lower_Princes',\n",
       " 'America/Maceio',\n",
       " 'America/Managua',\n",
       " 'America/Manaus',\n",
       " 'America/Marigot',\n",
       " 'America/Martinique',\n",
       " 'America/Matamoros',\n",
       " 'America/Mazatlan',\n",
       " 'America/Menominee',\n",
       " 'America/Merida',\n",
       " 'America/Metlakatla',\n",
       " 'America/Mexico_City',\n",
       " 'America/Miquelon',\n",
       " 'America/Moncton',\n",
       " 'America/Monterrey',\n",
       " 'America/Montevideo',\n",
       " 'America/Montserrat',\n",
       " 'America/Nassau',\n",
       " 'America/New_York',\n",
       " 'America/Nipigon',\n",
       " 'America/Nome',\n",
       " 'America/Noronha',\n",
       " 'America/North_Dakota/Beulah',\n",
       " 'America/North_Dakota/Center',\n",
       " 'America/North_Dakota/New_Salem',\n",
       " 'America/Ojinaga',\n",
       " 'America/Panama',\n",
       " 'America/Pangnirtung',\n",
       " 'America/Paramaribo',\n",
       " 'America/Phoenix',\n",
       " 'America/Port-au-Prince',\n",
       " 'America/Port_of_Spain',\n",
       " 'America/Porto_Velho',\n",
       " 'America/Puerto_Rico',\n",
       " 'America/Punta_Arenas',\n",
       " 'America/Rainy_River',\n",
       " 'America/Rankin_Inlet',\n",
       " 'America/Recife',\n",
       " 'America/Regina',\n",
       " 'America/Resolute',\n",
       " 'America/Rio_Branco',\n",
       " 'America/Santarem',\n",
       " 'America/Santiago',\n",
       " 'America/Santo_Domingo',\n",
       " 'America/Sao_Paulo',\n",
       " 'America/Scoresbysund',\n",
       " 'America/Sitka',\n",
       " 'America/St_Barthelemy',\n",
       " 'America/St_Johns',\n",
       " 'America/St_Kitts',\n",
       " 'America/St_Lucia',\n",
       " 'America/St_Thomas',\n",
       " 'America/St_Vincent',\n",
       " 'America/Swift_Current',\n",
       " 'America/Tegucigalpa',\n",
       " 'America/Thule',\n",
       " 'America/Thunder_Bay',\n",
       " 'America/Tijuana',\n",
       " 'America/Toronto',\n",
       " 'America/Tortola',\n",
       " 'America/Vancouver',\n",
       " 'America/Whitehorse',\n",
       " 'America/Winnipeg',\n",
       " 'America/Yakutat',\n",
       " 'America/Yellowknife',\n",
       " 'Antarctica/Casey',\n",
       " 'Antarctica/Davis',\n",
       " 'Antarctica/DumontDUrville',\n",
       " 'Antarctica/Macquarie',\n",
       " 'Antarctica/Mawson',\n",
       " 'Antarctica/McMurdo',\n",
       " 'Antarctica/Palmer',\n",
       " 'Antarctica/Rothera',\n",
       " 'Antarctica/Syowa',\n",
       " 'Antarctica/Troll',\n",
       " 'Antarctica/Vostok',\n",
       " 'Arctic/Longyearbyen',\n",
       " 'Asia/Aden',\n",
       " 'Asia/Almaty',\n",
       " 'Asia/Amman',\n",
       " 'Asia/Anadyr',\n",
       " 'Asia/Aqtau',\n",
       " 'Asia/Aqtobe',\n",
       " 'Asia/Ashgabat',\n",
       " 'Asia/Atyrau',\n",
       " 'Asia/Baghdad',\n",
       " 'Asia/Bahrain',\n",
       " 'Asia/Baku',\n",
       " 'Asia/Bangkok',\n",
       " 'Asia/Barnaul',\n",
       " 'Asia/Beirut',\n",
       " 'Asia/Bishkek',\n",
       " 'Asia/Brunei',\n",
       " 'Asia/Chita',\n",
       " 'Asia/Choibalsan',\n",
       " 'Asia/Colombo',\n",
       " 'Asia/Damascus',\n",
       " 'Asia/Dhaka',\n",
       " 'Asia/Dili',\n",
       " 'Asia/Dubai',\n",
       " 'Asia/Dushanbe',\n",
       " 'Asia/Famagusta',\n",
       " 'Asia/Gaza',\n",
       " 'Asia/Hebron',\n",
       " 'Asia/Ho_Chi_Minh',\n",
       " 'Asia/Hong_Kong',\n",
       " 'Asia/Hovd',\n",
       " 'Asia/Irkutsk',\n",
       " 'Asia/Jakarta',\n",
       " 'Asia/Jayapura',\n",
       " 'Asia/Jerusalem',\n",
       " 'Asia/Kabul',\n",
       " 'Asia/Kamchatka',\n",
       " 'Asia/Karachi',\n",
       " 'Asia/Kathmandu',\n",
       " 'Asia/Khandyga',\n",
       " 'Asia/Kolkata',\n",
       " 'Asia/Krasnoyarsk',\n",
       " 'Asia/Kuala_Lumpur',\n",
       " 'Asia/Kuching',\n",
       " 'Asia/Kuwait',\n",
       " 'Asia/Macau',\n",
       " 'Asia/Magadan',\n",
       " 'Asia/Makassar',\n",
       " 'Asia/Manila',\n",
       " 'Asia/Muscat',\n",
       " 'Asia/Nicosia',\n",
       " 'Asia/Novokuznetsk',\n",
       " 'Asia/Novosibirsk',\n",
       " 'Asia/Omsk',\n",
       " 'Asia/Oral',\n",
       " 'Asia/Phnom_Penh',\n",
       " 'Asia/Pontianak',\n",
       " 'Asia/Pyongyang',\n",
       " 'Asia/Qatar',\n",
       " 'Asia/Qostanay',\n",
       " 'Asia/Qyzylorda',\n",
       " 'Asia/Riyadh',\n",
       " 'Asia/Sakhalin',\n",
       " 'Asia/Samarkand',\n",
       " 'Asia/Seoul',\n",
       " 'Asia/Shanghai',\n",
       " 'Asia/Singapore',\n",
       " 'Asia/Srednekolymsk',\n",
       " 'Asia/Taipei',\n",
       " 'Asia/Tashkent',\n",
       " 'Asia/Tbilisi',\n",
       " 'Asia/Tehran',\n",
       " 'Asia/Thimphu',\n",
       " 'Asia/Tokyo',\n",
       " 'Asia/Tomsk',\n",
       " 'Asia/Ulaanbaatar',\n",
       " 'Asia/Urumqi',\n",
       " 'Asia/Ust-Nera',\n",
       " 'Asia/Vientiane',\n",
       " 'Asia/Vladivostok',\n",
       " 'Asia/Yakutsk',\n",
       " 'Asia/Yangon',\n",
       " 'Asia/Yekaterinburg',\n",
       " 'Asia/Yerevan',\n",
       " 'Atlantic/Azores',\n",
       " 'Atlantic/Bermuda',\n",
       " 'Atlantic/Canary',\n",
       " 'Atlantic/Cape_Verde',\n",
       " 'Atlantic/Faroe',\n",
       " 'Atlantic/Madeira',\n",
       " 'Atlantic/Reykjavik',\n",
       " 'Atlantic/South_Georgia',\n",
       " 'Atlantic/St_Helena',\n",
       " 'Atlantic/Stanley',\n",
       " 'Australia/Adelaide',\n",
       " 'Australia/Brisbane',\n",
       " 'Australia/Broken_Hill',\n",
       " 'Australia/Currie',\n",
       " 'Australia/Darwin',\n",
       " 'Australia/Eucla',\n",
       " 'Australia/Hobart',\n",
       " 'Australia/Lindeman',\n",
       " 'Australia/Lord_Howe',\n",
       " 'Australia/Melbourne',\n",
       " 'Australia/Perth',\n",
       " 'Australia/Sydney',\n",
       " 'Canada/Atlantic',\n",
       " 'Canada/Central',\n",
       " 'Canada/Eastern',\n",
       " 'Canada/Mountain',\n",
       " 'Canada/Newfoundland',\n",
       " 'Canada/Pacific',\n",
       " 'Europe/Amsterdam',\n",
       " 'Europe/Andorra',\n",
       " 'Europe/Astrakhan',\n",
       " 'Europe/Athens',\n",
       " 'Europe/Belgrade',\n",
       " 'Europe/Berlin',\n",
       " 'Europe/Bratislava',\n",
       " 'Europe/Brussels',\n",
       " 'Europe/Bucharest',\n",
       " 'Europe/Budapest',\n",
       " 'Europe/Busingen',\n",
       " 'Europe/Chisinau',\n",
       " 'Europe/Copenhagen',\n",
       " 'Europe/Dublin',\n",
       " 'Europe/Gibraltar',\n",
       " 'Europe/Guernsey',\n",
       " 'Europe/Helsinki',\n",
       " 'Europe/Isle_of_Man',\n",
       " 'Europe/Istanbul',\n",
       " 'Europe/Jersey',\n",
       " 'Europe/Kaliningrad',\n",
       " 'Europe/Kiev',\n",
       " 'Europe/Kirov',\n",
       " 'Europe/Lisbon',\n",
       " 'Europe/Ljubljana',\n",
       " 'Europe/London',\n",
       " 'Europe/Luxembourg',\n",
       " 'Europe/Madrid',\n",
       " 'Europe/Malta',\n",
       " 'Europe/Mariehamn',\n",
       " 'Europe/Minsk',\n",
       " 'Europe/Monaco',\n",
       " 'Europe/Moscow',\n",
       " 'Europe/Oslo',\n",
       " 'Europe/Paris',\n",
       " 'Europe/Podgorica',\n",
       " 'Europe/Prague',\n",
       " 'Europe/Riga',\n",
       " 'Europe/Rome',\n",
       " 'Europe/Samara',\n",
       " 'Europe/San_Marino',\n",
       " 'Europe/Sarajevo',\n",
       " 'Europe/Saratov',\n",
       " 'Europe/Simferopol',\n",
       " 'Europe/Skopje',\n",
       " 'Europe/Sofia',\n",
       " 'Europe/Stockholm',\n",
       " 'Europe/Tallinn',\n",
       " 'Europe/Tirane',\n",
       " 'Europe/Ulyanovsk',\n",
       " 'Europe/Uzhgorod',\n",
       " 'Europe/Vaduz',\n",
       " 'Europe/Vatican',\n",
       " 'Europe/Vienna',\n",
       " 'Europe/Vilnius',\n",
       " 'Europe/Volgograd',\n",
       " 'Europe/Warsaw',\n",
       " 'Europe/Zagreb',\n",
       " 'Europe/Zaporozhye',\n",
       " 'Europe/Zurich',\n",
       " 'GMT',\n",
       " 'Indian/Antananarivo',\n",
       " 'Indian/Chagos',\n",
       " 'Indian/Christmas',\n",
       " 'Indian/Cocos',\n",
       " 'Indian/Comoro',\n",
       " 'Indian/Kerguelen',\n",
       " 'Indian/Mahe',\n",
       " 'Indian/Maldives',\n",
       " 'Indian/Mauritius',\n",
       " 'Indian/Mayotte',\n",
       " 'Indian/Reunion',\n",
       " 'Pacific/Apia',\n",
       " 'Pacific/Auckland',\n",
       " 'Pacific/Bougainville',\n",
       " 'Pacific/Chatham',\n",
       " 'Pacific/Chuuk',\n",
       " 'Pacific/Easter',\n",
       " 'Pacific/Efate',\n",
       " 'Pacific/Enderbury',\n",
       " 'Pacific/Fakaofo',\n",
       " 'Pacific/Fiji',\n",
       " 'Pacific/Funafuti',\n",
       " 'Pacific/Galapagos',\n",
       " 'Pacific/Gambier',\n",
       " 'Pacific/Guadalcanal',\n",
       " 'Pacific/Guam',\n",
       " 'Pacific/Honolulu',\n",
       " 'Pacific/Kiritimati',\n",
       " 'Pacific/Kosrae',\n",
       " 'Pacific/Kwajalein',\n",
       " 'Pacific/Majuro',\n",
       " 'Pacific/Marquesas',\n",
       " 'Pacific/Midway',\n",
       " 'Pacific/Nauru',\n",
       " 'Pacific/Niue',\n",
       " 'Pacific/Norfolk',\n",
       " 'Pacific/Noumea',\n",
       " 'Pacific/Pago_Pago',\n",
       " 'Pacific/Palau',\n",
       " 'Pacific/Pitcairn',\n",
       " 'Pacific/Pohnpei',\n",
       " 'Pacific/Port_Moresby',\n",
       " 'Pacific/Rarotonga',\n",
       " 'Pacific/Saipan',\n",
       " 'Pacific/Tahiti',\n",
       " 'Pacific/Tarawa',\n",
       " 'Pacific/Tongatapu',\n",
       " 'Pacific/Wake',\n",
       " 'Pacific/Wallis',\n",
       " 'US/Alaska',\n",
       " 'US/Arizona',\n",
       " 'US/Central',\n",
       " 'US/Eastern',\n",
       " 'US/Hawaii',\n",
       " 'US/Mountain',\n",
       " 'US/Pacific',\n",
       " 'UTC']"
      ]
     },
     "execution_count": 214,
     "metadata": {},
     "output_type": "execute_result"
    }
   ],
   "source": [
    "pytz.common_timezones[:]"
   ]
  },
  {
   "cell_type": "code",
   "execution_count": 216,
   "metadata": {},
   "outputs": [
    {
     "data": {
      "text/plain": [
       "<DstTzInfo 'Asia/Kolkata' LMT+5:53:00 STD>"
      ]
     },
     "execution_count": 216,
     "metadata": {},
     "output_type": "execute_result"
    }
   ],
   "source": [
    "t=pytz.timezone('Asia/Kolkata')\n",
    "t"
   ]
  },
  {
   "cell_type": "code",
   "execution_count": 221,
   "metadata": {},
   "outputs": [],
   "source": [
    "dates=pd.date_range(start=\"18/2/1999\",periods=10,freq='M',tz='Asia/Kolkata')\n"
   ]
  },
  {
   "cell_type": "code",
   "execution_count": 222,
   "metadata": {},
   "outputs": [
    {
     "data": {
      "text/plain": [
       "DatetimeIndex(['1999-02-28 00:00:00+05:30', '1999-03-31 00:00:00+05:30',\n",
       "               '1999-04-30 00:00:00+05:30', '1999-05-31 00:00:00+05:30',\n",
       "               '1999-06-30 00:00:00+05:30', '1999-07-31 00:00:00+05:30',\n",
       "               '1999-08-31 00:00:00+05:30', '1999-09-30 00:00:00+05:30',\n",
       "               '1999-10-31 00:00:00+05:30', '1999-11-30 00:00:00+05:30'],\n",
       "              dtype='datetime64[ns, Asia/Kolkata]', freq='M')"
      ]
     },
     "execution_count": 222,
     "metadata": {},
     "output_type": "execute_result"
    }
   ],
   "source": [
    "dates"
   ]
  },
  {
   "cell_type": "code",
   "execution_count": 227,
   "metadata": {},
   "outputs": [
    {
     "data": {
      "text/plain": [
       "Timestamp('2020-02-02 04:00:00+0530', tz='Asia/Kolkata')"
      ]
     },
     "execution_count": 227,
     "metadata": {},
     "output_type": "execute_result"
    }
   ],
   "source": [
    "t=pd.Timestamp(\"2020/2/2 4:00\",tz=\"Asia/Kolkata\")\n",
    "t"
   ]
  },
  {
   "cell_type": "code",
   "execution_count": null,
   "metadata": {},
   "outputs": [],
   "source": []
  }
 ],
 "metadata": {
  "kernelspec": {
   "display_name": "Python 3",
   "language": "python",
   "name": "python3"
  },
  "language_info": {
   "codemirror_mode": {
    "name": "ipython",
    "version": 3
   },
   "file_extension": ".py",
   "mimetype": "text/x-python",
   "name": "python",
   "nbconvert_exporter": "python",
   "pygments_lexer": "ipython3",
   "version": "3.7.3"
  }
 },
 "nbformat": 4,
 "nbformat_minor": 2
}
