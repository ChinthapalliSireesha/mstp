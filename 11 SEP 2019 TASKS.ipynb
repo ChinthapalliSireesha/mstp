{
 "cells": [
  {
   "cell_type": "code",
   "execution_count": 172,
   "metadata": {},
   "outputs": [
    {
     "data": {
      "text/html": [
       "<div>\n",
       "<style scoped>\n",
       "    .dataframe tbody tr th:only-of-type {\n",
       "        vertical-align: middle;\n",
       "    }\n",
       "\n",
       "    .dataframe tbody tr th {\n",
       "        vertical-align: top;\n",
       "    }\n",
       "\n",
       "    .dataframe thead th {\n",
       "        text-align: right;\n",
       "    }\n",
       "</style>\n",
       "<table border=\"1\" class=\"dataframe\">\n",
       "  <thead>\n",
       "    <tr style=\"text-align: right;\">\n",
       "      <th></th>\n",
       "      <th>GEOID</th>\n",
       "      <th>State</th>\n",
       "      <th>2005</th>\n",
       "      <th>2006</th>\n",
       "      <th>2007</th>\n",
       "      <th>2008</th>\n",
       "      <th>2009</th>\n",
       "      <th>2010</th>\n",
       "      <th>2011</th>\n",
       "      <th>2012</th>\n",
       "      <th>2013</th>\n",
       "    </tr>\n",
       "  </thead>\n",
       "  <tbody>\n",
       "    <tr>\n",
       "      <th>0</th>\n",
       "      <td>04000US01</td>\n",
       "      <td>Alabama</td>\n",
       "      <td>37150</td>\n",
       "      <td>37952</td>\n",
       "      <td>42212</td>\n",
       "      <td>44476</td>\n",
       "      <td>39980</td>\n",
       "      <td>40933</td>\n",
       "      <td>42590</td>\n",
       "      <td>43464</td>\n",
       "      <td>41381</td>\n",
       "    </tr>\n",
       "    <tr>\n",
       "      <th>1</th>\n",
       "      <td>04000US02</td>\n",
       "      <td>Alaska</td>\n",
       "      <td>55891</td>\n",
       "      <td>56418</td>\n",
       "      <td>62993</td>\n",
       "      <td>63989</td>\n",
       "      <td>61604</td>\n",
       "      <td>57848</td>\n",
       "      <td>57431</td>\n",
       "      <td>63648</td>\n",
       "      <td>61137</td>\n",
       "    </tr>\n",
       "    <tr>\n",
       "      <th>2</th>\n",
       "      <td>04000US04</td>\n",
       "      <td>Arizona</td>\n",
       "      <td>45245</td>\n",
       "      <td>46657</td>\n",
       "      <td>47215</td>\n",
       "      <td>46914</td>\n",
       "      <td>45739</td>\n",
       "      <td>46896</td>\n",
       "      <td>48621</td>\n",
       "      <td>47044</td>\n",
       "      <td>50602</td>\n",
       "    </tr>\n",
       "    <tr>\n",
       "      <th>3</th>\n",
       "      <td>04000US05</td>\n",
       "      <td>Arkansas</td>\n",
       "      <td>36658</td>\n",
       "      <td>37057</td>\n",
       "      <td>40795</td>\n",
       "      <td>39586</td>\n",
       "      <td>36538</td>\n",
       "      <td>38587</td>\n",
       "      <td>41302</td>\n",
       "      <td>39018</td>\n",
       "      <td>39919</td>\n",
       "    </tr>\n",
       "    <tr>\n",
       "      <th>4</th>\n",
       "      <td>04000US06</td>\n",
       "      <td>California</td>\n",
       "      <td>51755</td>\n",
       "      <td>55319</td>\n",
       "      <td>55734</td>\n",
       "      <td>57014</td>\n",
       "      <td>56134</td>\n",
       "      <td>54283</td>\n",
       "      <td>53367</td>\n",
       "      <td>57020</td>\n",
       "      <td>57528</td>\n",
       "    </tr>\n",
       "  </tbody>\n",
       "</table>\n",
       "</div>"
      ],
      "text/plain": [
       "       GEOID       State   2005   2006   2007   2008   2009   2010   2011  \\\n",
       "0  04000US01     Alabama  37150  37952  42212  44476  39980  40933  42590   \n",
       "1  04000US02      Alaska  55891  56418  62993  63989  61604  57848  57431   \n",
       "2  04000US04     Arizona  45245  46657  47215  46914  45739  46896  48621   \n",
       "3  04000US05    Arkansas  36658  37057  40795  39586  36538  38587  41302   \n",
       "4  04000US06  California  51755  55319  55734  57014  56134  54283  53367   \n",
       "\n",
       "    2012   2013  \n",
       "0  43464  41381  \n",
       "1  63648  61137  \n",
       "2  47044  50602  \n",
       "3  39018  39919  \n",
       "4  57020  57528  "
      ]
     },
     "execution_count": 172,
     "metadata": {},
     "output_type": "execute_result"
    }
   ],
   "source": [
    "import pandas as pd\n",
    "income=pd.read_csv(\"income.csv\")\n",
    "income\n",
    "    "
   ]
  },
  {
   "cell_type": "markdown",
   "metadata": {},
   "source": [
    "### average income of alaska in all years"
   ]
  },
  {
   "cell_type": "code",
   "execution_count": 173,
   "metadata": {},
   "outputs": [
    {
     "name": "stdout",
     "output_type": "stream",
     "text": [
      "60106.555555555555\n"
     ]
    }
   ],
   "source": [
    "s=0\n",
    "c=0\n",
    "for i in range(2,11):\n",
    "    s+=income.values[1][i]\n",
    "    c+=1\n",
    "    avg=s/c\n",
    "print(avg)\n",
    "    \n",
    "    "
   ]
  },
  {
   "cell_type": "markdown",
   "metadata": {},
   "source": [
    "### Average income of all states in 2012"
   ]
  },
  {
   "cell_type": "code",
   "execution_count": 24,
   "metadata": {},
   "outputs": [
    {
     "name": "stdout",
     "output_type": "stream",
     "text": [
      "50038.8\n"
     ]
    }
   ],
   "source": [
    "s=0\n",
    "c=0\n",
    "for i in income.values:\n",
    "        s+=i[9]\n",
    "        c+=1\n",
    "        avg=s/c\n",
    "print(avg)\n",
    "    \n",
    "    "
   ]
  },
  {
   "cell_type": "markdown",
   "metadata": {},
   "source": [
    "### create a function to print all the columns in a single line:"
   ]
  },
  {
   "cell_type": "code",
   "execution_count": 27,
   "metadata": {},
   "outputs": [
    {
     "data": {
      "text/plain": [
       "Index(['GEOID', 'State', '2005', '2006', '2007', '2008', '2009', '2010',\n",
       "       '2011', '2012', '2013'],\n",
       "      dtype='object')"
      ]
     },
     "execution_count": 27,
     "metadata": {},
     "output_type": "execute_result"
    }
   ],
   "source": [
    "def columns():\n",
    "    return income.columns\n",
    "columns()"
   ]
  },
  {
   "cell_type": "markdown",
   "metadata": {},
   "source": [
    "### create a function to access a row based on a unique column value"
   ]
  },
  {
   "cell_type": "code",
   "execution_count": 145,
   "metadata": {},
   "outputs": [
    {
     "name": "stdout",
     "output_type": "stream",
     "text": [
      "['04000US01' 'Alabama' 37150 37952 42212 44476 39980 40933 42590 43464\n",
      " 41381]\n"
     ]
    }
   ],
   "source": [
    "print(income.values[0])"
   ]
  },
  {
   "cell_type": "markdown",
   "metadata": {},
   "source": [
    "### create a function to find average income of all states from 2005 to 2013"
   ]
  },
  {
   "cell_type": "code",
   "execution_count": 30,
   "metadata": {},
   "outputs": [
    {
     "data": {
      "text/plain": [
       "48525.42222222222"
      ]
     },
     "execution_count": 30,
     "metadata": {},
     "output_type": "execute_result"
    }
   ],
   "source": [
    "def allStates():\n",
    "    s=0\n",
    "    c=0\n",
    "    for i in range(2,11):\n",
    "        for j in range(0,5):\n",
    "            s+=income.values[j][i]\n",
    "            c+=1\n",
    "            avg=s/c\n",
    "    return avg\n",
    "allStates()\n",
    "\n",
    "    \n",
    "    \n",
    "    "
   ]
  },
  {
   "cell_type": "markdown",
   "metadata": {},
   "source": [
    "### create a function to find the highest average in the last three years:\n",
    "## method1"
   ]
  },
  {
   "cell_type": "code",
   "execution_count": 35,
   "metadata": {},
   "outputs": [
    {
     "name": "stdout",
     "output_type": "stream",
     "text": [
      "48662.2\n",
      "50038.8\n",
      "50113.4\n",
      "2013 is highest\n"
     ]
    }
   ],
   "source": [
    "def highest():\n",
    "    s1=0\n",
    "    s2=0\n",
    "    s3=0\n",
    "    c1=0\n",
    "    c2=0\n",
    "    c3=0\n",
    "    for i in income.values:\n",
    "        s1+=i[9]\n",
    "        c1+=1\n",
    "        avg2012=s1/c1\n",
    "    for i in income.values:\n",
    "        s2+=i[8]\n",
    "        c2+=1\n",
    "        avg2011=s2/c2\n",
    "    for i in income.values:\n",
    "        s3+=i[10]\n",
    "        c3+=1\n",
    "        avg2013=s3/c3\n",
    "    print(avg2011)\n",
    "    \n",
    "    print(avg2012)\n",
    "    print(avg2013)\n",
    "    if(avg2011 > avg2012 and avg2011 >avg2013):\n",
    "        print(\"2011 is highest\")\n",
    "    elif(avg2012>avg2013 and avg2012>avg2011):\n",
    "        print(\"2012 is highest\")\n",
    "    else:\n",
    "        print(\"2013 is highest\")\n",
    "highest()\n",
    "\n",
    "    "
   ]
  },
  {
   "cell_type": "markdown",
   "metadata": {},
   "source": [
    "### method2"
   ]
  },
  {
   "cell_type": "code",
   "execution_count": 76,
   "metadata": {},
   "outputs": [
    {
     "data": {
      "text/plain": [
       "50113"
      ]
     },
     "execution_count": 76,
     "metadata": {},
     "output_type": "execute_result"
    }
   ],
   "source": [
    "def highest1():\n",
    "    for i in range(8,11):\n",
    "        s=0\n",
    "        c=0\n",
    "        h=0\n",
    "        for j in range(0,5):\n",
    "            s+=income.values[j][i]\n",
    "            c+=1\n",
    "            avg=s//c\n",
    "        \n",
    "        if h<avg:\n",
    "            h=avg\n",
    "    return h\n",
    "highest1()\n"
   ]
  },
  {
   "cell_type": "code",
   "execution_count": 77,
   "metadata": {},
   "outputs": [
    {
     "data": {
      "text/plain": [
       "47709.4"
      ]
     },
     "execution_count": 77,
     "metadata": {},
     "output_type": "execute_result"
    }
   ],
   "source": [
    "h"
   ]
  },
  {
   "cell_type": "markdown",
   "metadata": {},
   "source": [
    "### calculate the lowest average income from 2007 to 2010(Inclusive)"
   ]
  },
  {
   "cell_type": "code",
   "execution_count": 84,
   "metadata": {},
   "outputs": [
    {
     "name": "stdout",
     "output_type": "stream",
     "text": [
      "49789.8\n",
      "50395.8\n",
      "47999.0\n",
      "47709.4\n"
     ]
    },
    {
     "data": {
      "text/plain": [
       "47709.4"
      ]
     },
     "execution_count": 84,
     "metadata": {},
     "output_type": "execute_result"
    }
   ],
   "source": [
    "def lowest():\n",
    "    l=[]\n",
    "    for i in range(4,8):\n",
    "        s=0\n",
    "        c=0\n",
    "        for j in range(0,5):\n",
    "            s+=income.values[j][i]\n",
    "            c+=1\n",
    "        avg=s/c\n",
    "        print(avg)\n",
    "        l.append(avg)\n",
    "    return min(l)\n",
    "lowest()\n"
   ]
  },
  {
   "cell_type": "markdown",
   "metadata": {},
   "source": []
  },
  {
   "cell_type": "markdown",
   "metadata": {},
   "source": [
    "### Print the list of all states in the same line with average income less than california"
   ]
  },
  {
   "cell_type": "code",
   "execution_count": 137,
   "metadata": {},
   "outputs": [
    {
     "name": "stdout",
     "output_type": "stream",
     "text": [
      "['Alabama', 'Arizona', 'Arkansas']\n"
     ]
    }
   ],
   "source": [
    "def california():\n",
    "    l=[]\n",
    "    l2=[]\n",
    "    for i in range(0,5):\n",
    "        s=0\n",
    "        c=0\n",
    "        for j in range(2,11):\n",
    "            s+=income.values[i][j]\n",
    "            c+=1\n",
    "        avg=s//c\n",
    "        l.append(avg)\n",
    "    for k in range(0,4):\n",
    "        if(l[k]<l[4]):\n",
    "            for z in range(1,2):\n",
    "                l2.append(income.values[k][z])\n",
    "        \n",
    "    print(l2) \n",
    "california()\n",
    "        "
   ]
  },
  {
   "cell_type": "markdown",
   "metadata": {},
   "source": [
    "### Print the names of states based on descending order of their averages "
   ]
  },
  {
   "cell_type": "code",
   "execution_count": 191,
   "metadata": {},
   "outputs": [
    {
     "name": "stdout",
     "output_type": "stream",
     "text": [
      "[60106, 55350, 47214, 41126, 38828]\n"
     ]
    }
   ],
   "source": [
    "   \n",
    "l4=[]\n",
    "l5=[]\n",
    "for i in range(0,5):\n",
    "    s=0\n",
    "    c=0\n",
    "    for j in range(2,11):\n",
    "        s+=income.values[i][j]\n",
    "        c+=1\n",
    "        avg=s//c\n",
    "    l4.append(avg)\n",
    "    l4.sort(reverse=True)\n",
    "print(l4)"
   ]
  },
  {
   "cell_type": "markdown",
   "metadata": {},
   "source": [
    "### State the lowest recorded income from 2005 to 2013"
   ]
  },
  {
   "cell_type": "code",
   "execution_count": 144,
   "metadata": {},
   "outputs": [
    {
     "data": {
      "text/plain": [
       "36538"
      ]
     },
     "execution_count": 144,
     "metadata": {},
     "output_type": "execute_result"
    }
   ],
   "source": [
    "def lowest():\n",
    "    l=[]\n",
    "    for i in range(2,11):\n",
    "        for j in range(0,5):\n",
    "            \n",
    "            l.append(income.values[j][i])\n",
    "    return min(l)\n",
    "lowest()\n"
   ]
  },
  {
   "cell_type": "code",
   "execution_count": null,
   "metadata": {},
   "outputs": [],
   "source": []
  }
 ],
 "metadata": {
  "kernelspec": {
   "display_name": "Python 3",
   "language": "python",
   "name": "python3"
  },
  "language_info": {
   "codemirror_mode": {
    "name": "ipython",
    "version": 3
   },
   "file_extension": ".py",
   "mimetype": "text/x-python",
   "name": "python",
   "nbconvert_exporter": "python",
   "pygments_lexer": "ipython3",
   "version": "3.7.3"
  }
 },
 "nbformat": 4,
 "nbformat_minor": 2
}
