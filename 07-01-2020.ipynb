{
 "cells": [
  {
   "cell_type": "markdown",
   "metadata": {},
   "source": [
    "### Supervised Learning\n",
    "####  Regression\n",
    "#### Linear Regression \n"
   ]
  },
  {
   "cell_type": "code",
   "execution_count": 28,
   "metadata": {},
   "outputs": [],
   "source": [
    "import pandas as pd\n",
    "import numpy as np\n",
    "import matplotlib.pyplot as plt"
   ]
  },
  {
   "cell_type": "markdown",
   "metadata": {},
   "source": [
    "m=summation(x-mean(x))(y-mean(y))/(x-mean(x))^2\n",
    "c=y-mx"
   ]
  },
  {
   "cell_type": "code",
   "execution_count": 9,
   "metadata": {},
   "outputs": [
    {
     "data": {
      "text/plain": [
       "array([1, 2, 3, 4, 5])"
      ]
     },
     "execution_count": 9,
     "metadata": {},
     "output_type": "execute_result"
    }
   ],
   "source": [
    "x=np.array([1,2,3,4,5])\n",
    "x"
   ]
  },
  {
   "cell_type": "code",
   "execution_count": 17,
   "metadata": {},
   "outputs": [
    {
     "data": {
      "text/plain": [
       "array([3, 5, 7, 9, 8])"
      ]
     },
     "execution_count": 17,
     "metadata": {},
     "output_type": "execute_result"
    }
   ],
   "source": [
    "y=np.array([3,5,7,9,8])\n",
    "y"
   ]
  },
  {
   "cell_type": "code",
   "execution_count": 18,
   "metadata": {},
   "outputs": [
    {
     "data": {
      "text/plain": [
       "3.0"
      ]
     },
     "execution_count": 18,
     "metadata": {},
     "output_type": "execute_result"
    }
   ],
   "source": [
    "mean_x=np.mean(x)\n",
    "mean_x"
   ]
  },
  {
   "cell_type": "code",
   "execution_count": 19,
   "metadata": {},
   "outputs": [
    {
     "data": {
      "text/plain": [
       "6.4"
      ]
     },
     "execution_count": 19,
     "metadata": {},
     "output_type": "execute_result"
    }
   ],
   "source": [
    "mean_y=np.mean(y)\n",
    "mean_y"
   ]
  },
  {
   "cell_type": "code",
   "execution_count": 23,
   "metadata": {},
   "outputs": [
    {
     "data": {
      "text/plain": [
       "2.200000000000001"
      ]
     },
     "execution_count": 23,
     "metadata": {},
     "output_type": "execute_result"
    }
   ],
   "source": [
    "a=len(y)\n",
    "d=0\n",
    "n=0\n",
    "for i in range(len(x)):\n",
    "    n+=((x[i]-mean_x)*(y[i]-mean_y))\n",
    "    d+=((x[i]-mean_x)**2)\n",
    "m=n/d\n",
    "m\n",
    "c=mean_y -(m*mean_x)\n",
    "c\n"
   ]
  },
  {
   "cell_type": "code",
   "execution_count": 24,
   "metadata": {},
   "outputs": [
    {
     "data": {
      "text/plain": [
       "[3.600000000000001,\n",
       " 5.000000000000001,\n",
       " 6.4,\n",
       " 7.800000000000001,\n",
       " 9.200000000000001]"
      ]
     },
     "execution_count": 24,
     "metadata": {},
     "output_type": "execute_result"
    }
   ],
   "source": [
    "yp=[]\n",
    "for i in range(a):\n",
    "    b=(m*x[i]+c)\n",
    "    yp.append(b)\n",
    "yp"
   ]
  },
  {
   "cell_type": "code",
   "execution_count": 26,
   "metadata": {},
   "outputs": [
    {
     "data": {
      "text/plain": [
       "[<matplotlib.lines.Line2D at 0x20738eeb048>]"
      ]
     },
     "execution_count": 26,
     "metadata": {},
     "output_type": "execute_result"
    },
    {
     "data": {
      "image/png": "[encoded data removed]",
      "text/plain": [
       "<Figure size 432x288 with 1 Axes>"
      ]
     },
     "metadata": {
      "needs_background": "light"
     },
     "output_type": "display_data"
    }
   ],
   "source": [
    "plt.plot(x,yp)"
   ]
  },
  {
   "cell_type": "code",
   "execution_count": 31,
   "metadata": {},
   "outputs": [
    {
     "data": {
      "text/html": [
       "<div>\n",
       "<style scoped>\n",
       "    .dataframe tbody tr th:only-of-type {\n",
       "        vertical-align: middle;\n",
       "    }\n",
       "\n",
       "    .dataframe tbody tr th {\n",
       "        vertical-align: top;\n",
       "    }\n",
       "\n",
       "    .dataframe thead th {\n",
       "        text-align: right;\n",
       "    }\n",
       "</style>\n",
       "<table border=\"1\" class=\"dataframe\">\n",
       "  <thead>\n",
       "    <tr style=\"text-align: right;\">\n",
       "      <th></th>\n",
       "      <th>Gender</th>\n",
       "      <th>Age Range</th>\n",
       "      <th>Head Size(cm^3)</th>\n",
       "      <th>Brain Weight(grams)</th>\n",
       "    </tr>\n",
       "  </thead>\n",
       "  <tbody>\n",
       "    <tr>\n",
       "      <th>232</th>\n",
       "      <td>2</td>\n",
       "      <td>2</td>\n",
       "      <td>3214</td>\n",
       "      <td>1110</td>\n",
       "    </tr>\n",
       "    <tr>\n",
       "      <th>233</th>\n",
       "      <td>2</td>\n",
       "      <td>2</td>\n",
       "      <td>3394</td>\n",
       "      <td>1215</td>\n",
       "    </tr>\n",
       "    <tr>\n",
       "      <th>234</th>\n",
       "      <td>2</td>\n",
       "      <td>2</td>\n",
       "      <td>3233</td>\n",
       "      <td>1104</td>\n",
       "    </tr>\n",
       "    <tr>\n",
       "      <th>235</th>\n",
       "      <td>2</td>\n",
       "      <td>2</td>\n",
       "      <td>3352</td>\n",
       "      <td>1170</td>\n",
       "    </tr>\n",
       "    <tr>\n",
       "      <th>236</th>\n",
       "      <td>2</td>\n",
       "      <td>2</td>\n",
       "      <td>3391</td>\n",
       "      <td>1120</td>\n",
       "    </tr>\n",
       "  </tbody>\n",
       "</table>\n",
       "</div>"
      ],
      "text/plain": [
       "     Gender  Age Range  Head Size(cm^3)  Brain Weight(grams)\n",
       "232       2          2             3214                 1110\n",
       "233       2          2             3394                 1215\n",
       "234       2          2             3233                 1104\n",
       "235       2          2             3352                 1170\n",
       "236       2          2             3391                 1120"
      ]
     },
     "execution_count": 31,
     "metadata": {},
     "output_type": "execute_result"
    }
   ],
   "source": [
    "df=pd.read_csv('headbrain.csv')\n",
    "df.tail()"
   ]
  },
  {
   "cell_type": "code",
   "execution_count": 32,
   "metadata": {},
   "outputs": [],
   "source": [
    "x=df['Head Size(cm^3)']\n",
    "y=df['Brain Weight(grams)']"
   ]
  },
  {
   "cell_type": "code",
   "execution_count": 33,
   "metadata": {},
   "outputs": [
    {
     "data": {
      "text/plain": [
       "3633.9915611814345"
      ]
     },
     "execution_count": 33,
     "metadata": {},
     "output_type": "execute_result"
    }
   ],
   "source": [
    "mean_x=np.mean(x)\n",
    "mean_x"
   ]
  },
  {
   "cell_type": "code",
   "execution_count": 34,
   "metadata": {},
   "outputs": [
    {
     "data": {
      "text/plain": [
       "1282.873417721519"
      ]
     },
     "execution_count": 34,
     "metadata": {},
     "output_type": "execute_result"
    }
   ],
   "source": [
    "mean_y=np.mean(y)\n",
    "mean_y"
   ]
  },
  {
   "cell_type": "code",
   "execution_count": 43,
   "metadata": {},
   "outputs": [
    {
     "data": {
      "text/plain": [
       "325.57342104944223"
      ]
     },
     "execution_count": 43,
     "metadata": {},
     "output_type": "execute_result"
    }
   ],
   "source": [
    "a=len(y)\n",
    "d=0\n",
    "n=0\n",
    "for i in range(len(x)):\n",
    "    n+=((x[i]-mean_x)*(y[i]-mean_y))\n",
    "    d+=((x[i]-mean_x)**2)\n",
    "m=n/d\n",
    "m\n",
    "c=mean_y -(m*mean_x)\n",
    "c\n"
   ]
  },
  {
   "cell_type": "code",
   "execution_count": 36,
   "metadata": {},
   "outputs": [
    {
     "data": {
      "text/plain": [
       "[1514.1666008256125,\n",
       " 1310.2722920608173,\n",
       " 1448.0458366137732,\n",
       " 1320.546036300904,\n",
       " 1425.9177720966638,\n",
       " 1269.9676031189392,\n",
       " 1322.6534710168191,\n",
       " 1263.118440292215,\n",
       " 1277.3436246246424,\n",
       " 1374.549050896231,\n",
       " 1232.5606369114446,\n",
       " 1377.4467736306142,\n",
       " 1284.4562167908562,\n",
       " 1434.0840816208351,\n",
       " 1335.034649972821,\n",
       " 1346.6255409103546,\n",
       " 1246.785821243872,\n",
       " 1238.6195117197008,\n",
       " 1140.8872267691336,\n",
       " 1490.9848189505453,\n",
       " 1347.1523995893333,\n",
       " 1391.4085286235525,\n",
       " 1327.6586284671178,\n",
       " 1302.8962705551141,\n",
       " 1576.0724956056215,\n",
       " 1490.721389611056,\n",
       " 1388.7742352286584,\n",
       " 1385.0862244758068,\n",
       " 1235.4583596458278,\n",
       " 1425.390913417685,\n",
       " 1323.1803296957978,\n",
       " 1325.5511937512024,\n",
       " 1406.424000974448,\n",
       " 1421.7029026648333,\n",
       " 1420.9126146463652,\n",
       " 1330.2929218620118,\n",
       " 1254.688701428554,\n",
       " 1312.9065854557114,\n",
       " 1203.8468389071,\n",
       " 1245.468674546425,\n",
       " 1369.2804641064429,\n",
       " 1248.8932559597874,\n",
       " 1462.271020946201,\n",
       " 1327.6586284671178,\n",
       " 1343.2009594969923,\n",
       " 1388.2473765496795,\n",
       " 1460.427015569775,\n",
       " 1159.3272805333913,\n",
       " 1284.7196461303456,\n",
       " 1285.509934148814,\n",
       " 1350.5769810026954,\n",
       " 1324.7609057327345,\n",
       " 1450.4167006691778,\n",
       " 1395.8868273948722,\n",
       " 1382.4519310809128,\n",
       " 1236.5120770037856,\n",
       " 1350.313551663206,\n",
       " 1423.0200493622804,\n",
       " 1362.1678719402291,\n",
       " 1292.0956676360488,\n",
       " 1343.9912475154606,\n",
       " 1219.3891699369747,\n",
       " 1495.7265470613545,\n",
       " 1445.938401897858,\n",
       " 1307.374569326434,\n",
       " 1202.5296922096531,\n",
       " 1225.1846154057414,\n",
       " 1213.8571538076972,\n",
       " 1492.5653949874818,\n",
       " 1479.6573573525013,\n",
       " 1381.3982137229552,\n",
       " 1341.8838127995455,\n",
       " 1411.1657290852575,\n",
       " 1394.3062513579357,\n",
       " 1332.9272152569056,\n",
       " 1219.6525992764641,\n",
       " 1262.8550109527255,\n",
       " 1211.2228604128031,\n",
       " 1360.8507252427821,\n",
       " 1335.824937991289,\n",
       " 1334.5077912938423,\n",
       " 1341.3569541205666,\n",
       " 1181.455345050501,\n",
       " 1267.860168403024,\n",
       " 1361.6410132612502,\n",
       " 1339.77637808363,\n",
       " 1197.261105419865,\n",
       " 1222.8137513503366,\n",
       " 1249.1566852992767,\n",
       " 1354.791850434526,\n",
       " 1421.439473325344,\n",
       " 1199.6319694752697,\n",
       " 1290.2516622596231,\n",
       " 1352.6844157186106,\n",
       " 1300.2619771602203,\n",
       " 1321.0728949798827,\n",
       " 1240.4635170961265,\n",
       " 1244.9418158674462,\n",
       " 1288.144227543708,\n",
       " 1241.7806637935735,\n",
       " 1246.2589625648934,\n",
       " 1335.5615086517996,\n",
       " 1346.6255409103546,\n",
       " 1289.9882329201337,\n",
       " 1278.6607713220894,\n",
       " 1286.5636515067713,\n",
       " 1387.7205178707009,\n",
       " 1220.969745973911,\n",
       " 1357.1627144899305,\n",
       " 1492.5653949874818,\n",
       " 1298.944830462773,\n",
       " 1253.898413410086,\n",
       " 1266.2795923660876,\n",
       " 1272.3384671743438,\n",
       " 1216.7548765420806,\n",
       " 1247.3126799228507,\n",
       " 1271.021320476897,\n",
       " 1352.9478450581,\n",
       " 1409.3217237088315,\n",
       " 1362.6947306192078,\n",
       " 1220.969745973911,\n",
       " 1431.97664690492,\n",
       " 1507.8442966778669,\n",
       " 1277.6070539641319,\n",
       " 1392.7256753209995,\n",
       " 1321.863182998351,\n",
       " 1218.8623112579958,\n",
       " 1148.5266776143262,\n",
       " 1393.2525339999781,\n",
       " 1269.177315100471,\n",
       " 1291.3053796175805,\n",
       " 1256.0058481260012,\n",
       " 1391.4085286235525,\n",
       " 1291.56880895707,\n",
       " 1078.1910439706564,\n",
       " 1230.7166315350187,\n",
       " 1324.2340470537556,\n",
       " 1195.4171000434392,\n",
       " 1143.2580908245382,\n",
       " 1160.907856570328,\n",
       " 1266.543021705577,\n",
       " 1255.4789894470223,\n",
       " 1161.9615739282854,\n",
       " 1231.2434902139976,\n",
       " 1353.7381330765684,\n",
       " 1352.6844157186106,\n",
       " 1221.4966046528898,\n",
       " 1186.19707316131,\n",
       " 1234.6680716273597,\n",
       " 1139.5700800716866,\n",
       " 1224.6577567267625,\n",
       " 1200.9491161727165,\n",
       " 1294.9933903704323,\n",
       " 1231.506919553487,\n",
       " 1340.5666661020982,\n",
       " 1156.9564164779867,\n",
       " 1189.358225235183,\n",
       " 1302.105982536646,\n",
       " 1380.8713550439763,\n",
       " 1186.723931840289,\n",
       " 1134.564922621388,\n",
       " 1321.0728949798827,\n",
       " 1260.2207175578314,\n",
       " 1192.7828066485454,\n",
       " 1246.785821243872,\n",
       " 1137.4626453557712,\n",
       " 1181.1919157110117,\n",
       " 1210.1691430548456,\n",
       " 1327.3951991276283,\n",
       " 1264.9624456686406,\n",
       " 1154.0586937436035,\n",
       " 1248.3663972808085,\n",
       " 1266.2795923660876,\n",
       " 1306.5842813079657,\n",
       " 1277.8704833036213,\n",
       " 1169.3375954339886,\n",
       " 1276.2899072666848,\n",
       " 1263.6452989711938,\n",
       " 1373.7587628777626,\n",
       " 1256.2692774654906,\n",
       " 1297.3642544258369,\n",
       " 1157.4832751569656,\n",
       " 1380.6079257044871,\n",
       " 1163.542149965222,\n",
       " 1242.044093133063,\n",
       " 1284.983075469835,\n",
       " 1282.348782074941,\n",
       " 1134.0380639424093,\n",
       " 1219.6525992764641,\n",
       " 1301.0522651786882,\n",
       " 1159.3272805333913,\n",
       " 1209.115425696888,\n",
       " 1115.8614395176405,\n",
       " 1296.837395746858,\n",
       " 1262.3281522737466,\n",
       " 1056.0629794535469,\n",
       " 1131.1403412080258,\n",
       " 1206.481132301994,\n",
       " 1245.7321038859145,\n",
       " 1194.0999533459922,\n",
       " 1210.6960017338242,\n",
       " 1175.9233289212236,\n",
       " 1188.831366556204,\n",
       " 1340.0398074231196,\n",
       " 1133.5112052634304,\n",
       " 1298.154542444305,\n",
       " 1221.7600339923792,\n",
       " 1377.973632309593,\n",
       " 1199.6319694752697,\n",
       " 1042.1012244606086,\n",
       " 1099.2653911298084,\n",
       " 1268.6504564214922,\n",
       " 1099.7922498087873,\n",
       " 1112.963716783257,\n",
       " 1270.2310324584287,\n",
       " 1156.9564164779867,\n",
       " 1180.6650570320328,\n",
       " 1160.6444272308386,\n",
       " 1186.4605025007995,\n",
       " 1218.3354525790169,\n",
       " 1216.2280178631017,\n",
       " 1080.0350493470823,\n",
       " 1310.799150739796,\n",
       " 1242.044093133063,\n",
       " 1286.300222167282,\n",
       " 1304.4768465920506,\n",
       " 1190.67537193263,\n",
       " 1433.0303642628776,\n",
       " 1309.4820040423492,\n",
       " 1173.2890355263298,\n",
       " 1296.310537067879,\n",
       " 1301.3156945181777,\n",
       " 1172.235318168372,\n",
       " 1219.6525992764641,\n",
       " 1177.2404756186706,\n",
       " 1208.588567017909,\n",
       " 1218.8623112579958]"
      ]
     },
     "execution_count": 36,
     "metadata": {},
     "output_type": "execute_result"
    }
   ],
   "source": [
    "yp=[]\n",
    "for i in range(a):\n",
    "    b=(m*x[i]+c)\n",
    "    yp.append(b)\n",
    "yp"
   ]
  },
  {
   "cell_type": "code",
   "execution_count": 44,
   "metadata": {},
   "outputs": [
    {
     "data": {
      "text/plain": [
       "<matplotlib.collections.PathCollection at 0x20738624dd8>"
      ]
     },
     "execution_count": 44,
     "metadata": {},
     "output_type": "execute_result"
    },
    {
     "data": {
      "image/png": "[encoded data removed]",
      "text/plain": [
       "<Figure size 432x288 with 1 Axes>"
      ]
     },
     "metadata": {
      "needs_background": "light"
     },
     "output_type": "display_data"
    }
   ],
   "source": [
    "plt.scatter(x,y)"
   ]
  },
  {
   "cell_type": "code",
   "execution_count": 45,
   "metadata": {},
   "outputs": [
    {
     "data": {
      "text/plain": [
       "<matplotlib.collections.PathCollection at 0x20738a0db00>"
      ]
     },
     "execution_count": 45,
     "metadata": {},
     "output_type": "execute_result"
    },
    {
     "data": {
      "image/png": "[encoded data removed]",
      "text/plain": [
       "<Figure size 432x288 with 1 Axes>"
      ]
     },
     "metadata": {
      "needs_background": "light"
     },
     "output_type": "display_data"
    }
   ],
   "source": [
    "plt.scatter(x,yp)"
   ]
  },
  {
   "cell_type": "code",
   "execution_count": 59,
   "metadata": {},
   "outputs": [],
   "source": [
    "x=np.linspace(min_x,max_x,1000)\n",
    "y=m+c*x\n"
   ]
  },
  {
   "cell_type": "code",
   "execution_count": 60,
   "metadata": {},
   "outputs": [
    {
     "name": "stdout",
     "output_type": "stream",
     "text": [
      "r2 Score\n",
      "1.0\n"
     ]
    }
   ],
   "source": [
    "n=len(x)\n",
    "ss_tot=0\n",
    "ss_res=0\n",
    "for i in range(n):\n",
    "    y_pred = m + c * x[i]\n",
    "    ss_tot += (y[i] - mean_y)**2\n",
    "    ss_res +=(y[i]-y_pred)**2\n",
    "r2=1-(ss_res/ss_tot)\n",
    "print(\"r2 Score\")\n",
    "print(r2)"
   ]
  },
  {
   "cell_type": "code",
   "execution_count": null,
   "metadata": {},
   "outputs": [],
   "source": []
  },
  {
   "cell_type": "code",
   "execution_count": 54,
   "metadata": {},
   "outputs": [],
   "source": [
    "max_x=max(x)"
   ]
  },
  {
   "cell_type": "code",
   "execution_count": 39,
   "metadata": {},
   "outputs": [
    {
     "data": {
      "text/plain": [
       "1635"
      ]
     },
     "execution_count": 39,
     "metadata": {},
     "output_type": "execute_result"
    }
   ],
   "source": [
    "max(y)"
   ]
  },
  {
   "cell_type": "code",
   "execution_count": 56,
   "metadata": {},
   "outputs": [],
   "source": [
    "min_x=min(x)"
   ]
  },
  {
   "cell_type": "code",
   "execution_count": 41,
   "metadata": {},
   "outputs": [
    {
     "data": {
      "text/plain": [
       "955"
      ]
     },
     "execution_count": 41,
     "metadata": {},
     "output_type": "execute_result"
    }
   ],
   "source": [
    "min(y)"
   ]
  },
  {
   "cell_type": "code",
   "execution_count": null,
   "metadata": {},
   "outputs": [],
   "source": [
    "df."
   ]
  }
 ],
 "metadata": {
  "kernelspec": {
   "display_name": "Python 3",
   "language": "python",
   "name": "python3"
  },
  "language_info": {
   "codemirror_mode": {
    "name": "ipython",
    "version": 3
   },
   "file_extension": ".py",
   "mimetype": "text/x-python",
   "name": "python",
   "nbconvert_exporter": "python",
   "pygments_lexer": "ipython3",
   "version": "3.7.3"
  }
 },
 "nbformat": 4,
 "nbformat_minor": 2
}
