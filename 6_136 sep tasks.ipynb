{
 "cells": [
  {
   "cell_type": "code",
   "execution_count": 24,
   "metadata": {},
   "outputs": [],
   "source": [
    "fh_i=open('book.txt','r')\n",
    "fh_o=open('report.txt','w')\n",
    "count=0\n",
    "rows=[]\n",
    "for Line in fh_i:\n",
    "    count+=1\n",
    "    if count==1:\n",
    "        fh_o.write(Line.strip()+'\\ttotal\\n')\n",
    "    else:\n",
    "        marks_list =Line.strip().split()[2:]\n",
    "        newMarks =[]\n",
    "        for each in marks_list:\n",
    "            newMarks.append(int(each))\n",
    "        total_marks=sum(newMarks)\n",
    "        row=Line.strip()+'\\t'+str(total_marks)+'\\n'\n",
    "        rows.append([total_marks,row])\n",
    "rows.sort(reverse=True)\n",
    "for row in rows:\n",
    "    fh_o.write(row[1])\n",
    "fh_o.close()\n",
    "fh_i.close()"
   ]
  },
  {
   "cell_type": "markdown",
   "metadata": {},
   "source": [
    "### create dictionary for squares of 1 to 10 numbers\n",
    "### squares ={1:1,2:4}\n"
   ]
  },
  {
   "cell_type": "code",
   "execution_count": 25,
   "metadata": {},
   "outputs": [
    {
     "name": "stdout",
     "output_type": "stream",
     "text": [
      "{1: 1, 2: 4, 3: 9, 4: 16, 5: 25, 6: 36, 7: 49, 8: 64, 9: 81, 10: 100}\n"
     ]
    }
   ],
   "source": [
    "squares={}\n",
    "for i in range(1,11):\n",
    "    squares[i]=i*i\n",
    "print(squares)"
   ]
  },
  {
   "cell_type": "markdown",
   "metadata": {},
   "source": [
    "### sort the students based on english marks\n",
    "### ['name',english,maths]"
   ]
  },
  {
   "cell_type": "code",
   "execution_count": 70,
   "metadata": {},
   "outputs": [
    {
     "name": "stdout",
     "output_type": "stream",
     "text": [
      "[['sai', 30, 40], ['ram', 50, 60], ['lakshmi', 100, 30]]\n"
     ]
    }
   ],
   "source": [
    "students=[['sai',30,40],['lakshmi',100,30],['ram',50,60]]\n",
    "removeIndex=1\n",
    "for student in students:\n",
    "    # ['sai',30,40]\n",
    "    student.insert(0,student.pop(removeIndex))\n",
    "    #['30','sai',40]\n",
    "students.sort()\n",
    "for student in students:\n",
    "    student.insert(removeIndex,student.pop(0))\n",
    "    # ['sai',30,40]\n",
    "print(students)\n",
    "    \n",
    "\n"
   ]
  },
  {
   "cell_type": "code",
   "execution_count": 77,
   "metadata": {},
   "outputs": [
    {
     "data": {
      "text/plain": [
       "[['ram', 50, 60], ['lakshmi', 100, 30], ['sai', 130, 40]]"
      ]
     },
     "execution_count": 77,
     "metadata": {},
     "output_type": "execute_result"
    }
   ],
   "source": [
    "students=[['sai',130,40],['lakshmi',100,30],['ram',50,60]]\n",
    "students.sort(key=lambda X:X[1]+X[2])\n",
    "students"
   ]
  },
  {
   "cell_type": "code",
   "execution_count": 84,
   "metadata": {},
   "outputs": [
    {
     "data": {
      "text/plain": [
       "[10, 20, 30]"
      ]
     },
     "execution_count": 84,
     "metadata": {},
     "output_type": "execute_result"
    }
   ],
   "source": [
    "numbers=['10','20','30']\n",
    "result=[]\n",
    "for i in numbers:\n",
    "    result.append(int(i))\n",
    "result"
   ]
  },
  {
   "cell_type": "code",
   "execution_count": 87,
   "metadata": {},
   "outputs": [
    {
     "data": {
      "text/plain": [
       "[['sai', {'maths': 30, 'english': 50}],\n",
       " ['roja', {'maths': 50, 'english': 40}],\n",
       " ['ram', {'english': 100, 'maths': 100}]]"
      ]
     },
     "execution_count": 87,
     "metadata": {},
     "output_type": "execute_result"
    }
   ],
   "source": [
    "students=[['sai',{'maths':30,'english':50}],['ram',{'english':100,'maths':100}],['roja',{'maths':50,'english':40}]]\n",
    "students.sort(key=lambda X:X[1]['maths'])\n",
    "students"
   ]
  },
  {
   "cell_type": "code",
   "execution_count": null,
   "metadata": {},
   "outputs": [],
   "source": []
  }
 ],
 "metadata": {
  "kernelspec": {
   "display_name": "Python 3",
   "language": "python",
   "name": "python3"
  },
  "language_info": {
   "codemirror_mode": {
    "name": "ipython",
    "version": 3
   },
   "file_extension": ".py",
   "mimetype": "text/x-python",
   "name": "python",
   "nbconvert_exporter": "python",
   "pygments_lexer": "ipython3",
   "version": "3.7.3"
  }
 },
 "nbformat": 4,
 "nbformat_minor": 2
}
